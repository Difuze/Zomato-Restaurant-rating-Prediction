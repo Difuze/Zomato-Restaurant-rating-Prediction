{
  "nbformat": 4,
  "nbformat_minor": 0,
  "metadata": {
    "colab": {
      "provenance": [],
      "include_colab_link": true
    },
    "kernelspec": {
      "name": "python3",
      "display_name": "Python 3"
    },
    "language_info": {
      "name": "python"
    }
  },
  "cells": [
    {
      "cell_type": "markdown",
      "metadata": {
        "id": "view-in-github",
        "colab_type": "text"
      },
      "source": [
        "<a href=\"https://colab.research.google.com/github/Difuze/Zomato-Restaurant-rating-Prediction/blob/main/Restaurant_Rating_Prediction.ipynb\" target=\"_parent\"><img src=\"https://colab.research.google.com/assets/colab-badge.svg\" alt=\"Open In Colab\"/></a>"
      ]
    },
    {
      "cell_type": "code",
      "execution_count": null,
      "metadata": {
        "id": "20QWDY8-7JpG"
      },
      "outputs": [],
      "source": [
        "import pandas as pd\n",
        "import matplotlib.pyplot as plt\n",
        "import seaborn as sns\n",
        "import warnings\n",
        "\n"
      ]
    },
    {
      "cell_type": "code",
      "source": [
        "from google.colab import drive\n",
        "drive.mount('/content/drive')"
      ],
      "metadata": {
        "id": "DJfcyWIgHLSL"
      },
      "execution_count": null,
      "outputs": []
    },
    {
      "cell_type": "code",
      "source": [
        "df = pd.read_csv(\"/content/drive/MyDrive/zomato.csv\" , encoding = \"latin-1\")"
      ],
      "metadata": {
        "id": "7-l-1eaA-tSl"
      },
      "execution_count": null,
      "outputs": []
    },
    {
      "cell_type": "markdown",
      "source": [
        "### Selecting only Necessary Columns"
      ],
      "metadata": {
        "id": "Y_kPG8W81CD7"
      }
    },
    {
      "cell_type": "code",
      "source": [
        "df = df[[\"name\",\"online_order\",\"book_table\",\"rate\",\"votes\",\"location\",\"rest_type\",\"dish_liked\",\"cuisines\",\"approx_cost(for two people)\",\"reviews_list\",\"menu_item\",\"listed_in(type)\",\"listed_in(city)\"]]"
      ],
      "metadata": {
        "id": "VX-xdrWh8-20"
      },
      "execution_count": null,
      "outputs": []
    },
    {
      "cell_type": "code",
      "source": [
        "df.head()"
      ],
      "metadata": {
        "id": "TheptVnb8-68",
        "colab": {
          "base_uri": "https://localhost:8080/",
          "height": 608
        },
        "outputId": "b6762fb6-f05a-4d71-b33d-a2804f5e15fc"
      },
      "execution_count": null,
      "outputs": [
        {
          "output_type": "execute_result",
          "data": {
            "text/plain": [
              "                    name online_order book_table   rate votes      location  \\\n",
              "0                  Jalsa          Yes        Yes  4.1/5   775  Banashankari   \n",
              "1         Spice Elephant          Yes         No  4.1/5   787  Banashankari   \n",
              "2        San Churro Cafe          Yes         No  3.8/5   918  Banashankari   \n",
              "3  Addhuri Udupi Bhojana           No         No  3.7/5    88  Banashankari   \n",
              "4          Grand Village           No         No  3.8/5   166  Basavanagudi   \n",
              "\n",
              "             rest_type                                         dish_liked  \\\n",
              "0        Casual Dining  Pasta, Lunch Buffet, Masala Papad, Paneer Laja...   \n",
              "1        Casual Dining  Momos, Lunch Buffet, Chocolate Nirvana, Thai G...   \n",
              "2  Cafe, Casual Dining  Churros, Cannelloni, Minestrone Soup, Hot Choc...   \n",
              "3          Quick Bites                                        Masala Dosa   \n",
              "4        Casual Dining                                Panipuri, Gol Gappe   \n",
              "\n",
              "                         cuisines approx_cost(for two people)  \\\n",
              "0  North Indian, Mughlai, Chinese                         800   \n",
              "1     Chinese, North Indian, Thai                         800   \n",
              "2          Cafe, Mexican, Italian                         800   \n",
              "3      South Indian, North Indian                         300   \n",
              "4        North Indian, Rajasthani                         600   \n",
              "\n",
              "                                        reviews_list menu_item  \\\n",
              "0  [('Rated 4.0', 'RATED\\n  A beautiful place to ...        []   \n",
              "1  [('Rated 4.0', 'RATED\\n  Had been here for din...        []   \n",
              "2  [('Rated 3.0', \"RATED\\n  Ambience is not that ...        []   \n",
              "3  [('Rated 4.0', \"RATED\\n  Great food and proper...        []   \n",
              "4  [('Rated 4.0', 'RATED\\n  Very good restaurant ...        []   \n",
              "\n",
              "  listed_in(type) listed_in(city)  \n",
              "0          Buffet    Banashankari  \n",
              "1          Buffet    Banashankari  \n",
              "2          Buffet    Banashankari  \n",
              "3          Buffet    Banashankari  \n",
              "4          Buffet    Banashankari  "
            ],
            "text/html": [
              "\n",
              "  <div id=\"df-6441c3b4-68d4-4bd2-8d19-d6594a1f29f6\" class=\"colab-df-container\">\n",
              "    <div>\n",
              "<style scoped>\n",
              "    .dataframe tbody tr th:only-of-type {\n",
              "        vertical-align: middle;\n",
              "    }\n",
              "\n",
              "    .dataframe tbody tr th {\n",
              "        vertical-align: top;\n",
              "    }\n",
              "\n",
              "    .dataframe thead th {\n",
              "        text-align: right;\n",
              "    }\n",
              "</style>\n",
              "<table border=\"1\" class=\"dataframe\">\n",
              "  <thead>\n",
              "    <tr style=\"text-align: right;\">\n",
              "      <th></th>\n",
              "      <th>name</th>\n",
              "      <th>online_order</th>\n",
              "      <th>book_table</th>\n",
              "      <th>rate</th>\n",
              "      <th>votes</th>\n",
              "      <th>location</th>\n",
              "      <th>rest_type</th>\n",
              "      <th>dish_liked</th>\n",
              "      <th>cuisines</th>\n",
              "      <th>approx_cost(for two people)</th>\n",
              "      <th>reviews_list</th>\n",
              "      <th>menu_item</th>\n",
              "      <th>listed_in(type)</th>\n",
              "      <th>listed_in(city)</th>\n",
              "    </tr>\n",
              "  </thead>\n",
              "  <tbody>\n",
              "    <tr>\n",
              "      <th>0</th>\n",
              "      <td>Jalsa</td>\n",
              "      <td>Yes</td>\n",
              "      <td>Yes</td>\n",
              "      <td>4.1/5</td>\n",
              "      <td>775</td>\n",
              "      <td>Banashankari</td>\n",
              "      <td>Casual Dining</td>\n",
              "      <td>Pasta, Lunch Buffet, Masala Papad, Paneer Laja...</td>\n",
              "      <td>North Indian, Mughlai, Chinese</td>\n",
              "      <td>800</td>\n",
              "      <td>[('Rated 4.0', 'RATED\\n  A beautiful place to ...</td>\n",
              "      <td>[]</td>\n",
              "      <td>Buffet</td>\n",
              "      <td>Banashankari</td>\n",
              "    </tr>\n",
              "    <tr>\n",
              "      <th>1</th>\n",
              "      <td>Spice Elephant</td>\n",
              "      <td>Yes</td>\n",
              "      <td>No</td>\n",
              "      <td>4.1/5</td>\n",
              "      <td>787</td>\n",
              "      <td>Banashankari</td>\n",
              "      <td>Casual Dining</td>\n",
              "      <td>Momos, Lunch Buffet, Chocolate Nirvana, Thai G...</td>\n",
              "      <td>Chinese, North Indian, Thai</td>\n",
              "      <td>800</td>\n",
              "      <td>[('Rated 4.0', 'RATED\\n  Had been here for din...</td>\n",
              "      <td>[]</td>\n",
              "      <td>Buffet</td>\n",
              "      <td>Banashankari</td>\n",
              "    </tr>\n",
              "    <tr>\n",
              "      <th>2</th>\n",
              "      <td>San Churro Cafe</td>\n",
              "      <td>Yes</td>\n",
              "      <td>No</td>\n",
              "      <td>3.8/5</td>\n",
              "      <td>918</td>\n",
              "      <td>Banashankari</td>\n",
              "      <td>Cafe, Casual Dining</td>\n",
              "      <td>Churros, Cannelloni, Minestrone Soup, Hot Choc...</td>\n",
              "      <td>Cafe, Mexican, Italian</td>\n",
              "      <td>800</td>\n",
              "      <td>[('Rated 3.0', \"RATED\\n  Ambience is not that ...</td>\n",
              "      <td>[]</td>\n",
              "      <td>Buffet</td>\n",
              "      <td>Banashankari</td>\n",
              "    </tr>\n",
              "    <tr>\n",
              "      <th>3</th>\n",
              "      <td>Addhuri Udupi Bhojana</td>\n",
              "      <td>No</td>\n",
              "      <td>No</td>\n",
              "      <td>3.7/5</td>\n",
              "      <td>88</td>\n",
              "      <td>Banashankari</td>\n",
              "      <td>Quick Bites</td>\n",
              "      <td>Masala Dosa</td>\n",
              "      <td>South Indian, North Indian</td>\n",
              "      <td>300</td>\n",
              "      <td>[('Rated 4.0', \"RATED\\n  Great food and proper...</td>\n",
              "      <td>[]</td>\n",
              "      <td>Buffet</td>\n",
              "      <td>Banashankari</td>\n",
              "    </tr>\n",
              "    <tr>\n",
              "      <th>4</th>\n",
              "      <td>Grand Village</td>\n",
              "      <td>No</td>\n",
              "      <td>No</td>\n",
              "      <td>3.8/5</td>\n",
              "      <td>166</td>\n",
              "      <td>Basavanagudi</td>\n",
              "      <td>Casual Dining</td>\n",
              "      <td>Panipuri, Gol Gappe</td>\n",
              "      <td>North Indian, Rajasthani</td>\n",
              "      <td>600</td>\n",
              "      <td>[('Rated 4.0', 'RATED\\n  Very good restaurant ...</td>\n",
              "      <td>[]</td>\n",
              "      <td>Buffet</td>\n",
              "      <td>Banashankari</td>\n",
              "    </tr>\n",
              "  </tbody>\n",
              "</table>\n",
              "</div>\n",
              "    <div class=\"colab-df-buttons\">\n",
              "\n",
              "  <div class=\"colab-df-container\">\n",
              "    <button class=\"colab-df-convert\" onclick=\"convertToInteractive('df-6441c3b4-68d4-4bd2-8d19-d6594a1f29f6')\"\n",
              "            title=\"Convert this dataframe to an interactive table.\"\n",
              "            style=\"display:none;\">\n",
              "\n",
              "  <svg xmlns=\"http://www.w3.org/2000/svg\" height=\"24px\" viewBox=\"0 -960 960 960\">\n",
              "    <path d=\"M120-120v-720h720v720H120Zm60-500h600v-160H180v160Zm220 220h160v-160H400v160Zm0 220h160v-160H400v160ZM180-400h160v-160H180v160Zm440 0h160v-160H620v160ZM180-180h160v-160H180v160Zm440 0h160v-160H620v160Z\"/>\n",
              "  </svg>\n",
              "    </button>\n",
              "\n",
              "  <style>\n",
              "    .colab-df-container {\n",
              "      display:flex;\n",
              "      gap: 12px;\n",
              "    }\n",
              "\n",
              "    .colab-df-convert {\n",
              "      background-color: #E8F0FE;\n",
              "      border: none;\n",
              "      border-radius: 50%;\n",
              "      cursor: pointer;\n",
              "      display: none;\n",
              "      fill: #1967D2;\n",
              "      height: 32px;\n",
              "      padding: 0 0 0 0;\n",
              "      width: 32px;\n",
              "    }\n",
              "\n",
              "    .colab-df-convert:hover {\n",
              "      background-color: #E2EBFA;\n",
              "      box-shadow: 0px 1px 2px rgba(60, 64, 67, 0.3), 0px 1px 3px 1px rgba(60, 64, 67, 0.15);\n",
              "      fill: #174EA6;\n",
              "    }\n",
              "\n",
              "    .colab-df-buttons div {\n",
              "      margin-bottom: 4px;\n",
              "    }\n",
              "\n",
              "    [theme=dark] .colab-df-convert {\n",
              "      background-color: #3B4455;\n",
              "      fill: #D2E3FC;\n",
              "    }\n",
              "\n",
              "    [theme=dark] .colab-df-convert:hover {\n",
              "      background-color: #434B5C;\n",
              "      box-shadow: 0px 1px 3px 1px rgba(0, 0, 0, 0.15);\n",
              "      filter: drop-shadow(0px 1px 2px rgba(0, 0, 0, 0.3));\n",
              "      fill: #FFFFFF;\n",
              "    }\n",
              "  </style>\n",
              "\n",
              "    <script>\n",
              "      const buttonEl =\n",
              "        document.querySelector('#df-6441c3b4-68d4-4bd2-8d19-d6594a1f29f6 button.colab-df-convert');\n",
              "      buttonEl.style.display =\n",
              "        google.colab.kernel.accessAllowed ? 'block' : 'none';\n",
              "\n",
              "      async function convertToInteractive(key) {\n",
              "        const element = document.querySelector('#df-6441c3b4-68d4-4bd2-8d19-d6594a1f29f6');\n",
              "        const dataTable =\n",
              "          await google.colab.kernel.invokeFunction('convertToInteractive',\n",
              "                                                    [key], {});\n",
              "        if (!dataTable) return;\n",
              "\n",
              "        const docLinkHtml = 'Like what you see? Visit the ' +\n",
              "          '<a target=\"_blank\" href=https://colab.research.google.com/notebooks/data_table.ipynb>data table notebook</a>'\n",
              "          + ' to learn more about interactive tables.';\n",
              "        element.innerHTML = '';\n",
              "        dataTable['output_type'] = 'display_data';\n",
              "        await google.colab.output.renderOutput(dataTable, element);\n",
              "        const docLink = document.createElement('div');\n",
              "        docLink.innerHTML = docLinkHtml;\n",
              "        element.appendChild(docLink);\n",
              "      }\n",
              "    </script>\n",
              "  </div>\n",
              "\n",
              "\n",
              "<div id=\"df-89eb82e7-9a57-46e7-93e8-9a176c9c587d\">\n",
              "  <button class=\"colab-df-quickchart\" onclick=\"quickchart('df-89eb82e7-9a57-46e7-93e8-9a176c9c587d')\"\n",
              "            title=\"Suggest charts.\"\n",
              "            style=\"display:none;\">\n",
              "\n",
              "<svg xmlns=\"http://www.w3.org/2000/svg\" height=\"24px\"viewBox=\"0 0 24 24\"\n",
              "     width=\"24px\">\n",
              "    <g>\n",
              "        <path d=\"M19 3H5c-1.1 0-2 .9-2 2v14c0 1.1.9 2 2 2h14c1.1 0 2-.9 2-2V5c0-1.1-.9-2-2-2zM9 17H7v-7h2v7zm4 0h-2V7h2v10zm4 0h-2v-4h2v4z\"/>\n",
              "    </g>\n",
              "</svg>\n",
              "  </button>\n",
              "\n",
              "<style>\n",
              "  .colab-df-quickchart {\n",
              "      --bg-color: #E8F0FE;\n",
              "      --fill-color: #1967D2;\n",
              "      --hover-bg-color: #E2EBFA;\n",
              "      --hover-fill-color: #174EA6;\n",
              "      --disabled-fill-color: #AAA;\n",
              "      --disabled-bg-color: #DDD;\n",
              "  }\n",
              "\n",
              "  [theme=dark] .colab-df-quickchart {\n",
              "      --bg-color: #3B4455;\n",
              "      --fill-color: #D2E3FC;\n",
              "      --hover-bg-color: #434B5C;\n",
              "      --hover-fill-color: #FFFFFF;\n",
              "      --disabled-bg-color: #3B4455;\n",
              "      --disabled-fill-color: #666;\n",
              "  }\n",
              "\n",
              "  .colab-df-quickchart {\n",
              "    background-color: var(--bg-color);\n",
              "    border: none;\n",
              "    border-radius: 50%;\n",
              "    cursor: pointer;\n",
              "    display: none;\n",
              "    fill: var(--fill-color);\n",
              "    height: 32px;\n",
              "    padding: 0;\n",
              "    width: 32px;\n",
              "  }\n",
              "\n",
              "  .colab-df-quickchart:hover {\n",
              "    background-color: var(--hover-bg-color);\n",
              "    box-shadow: 0 1px 2px rgba(60, 64, 67, 0.3), 0 1px 3px 1px rgba(60, 64, 67, 0.15);\n",
              "    fill: var(--button-hover-fill-color);\n",
              "  }\n",
              "\n",
              "  .colab-df-quickchart-complete:disabled,\n",
              "  .colab-df-quickchart-complete:disabled:hover {\n",
              "    background-color: var(--disabled-bg-color);\n",
              "    fill: var(--disabled-fill-color);\n",
              "    box-shadow: none;\n",
              "  }\n",
              "\n",
              "  .colab-df-spinner {\n",
              "    border: 2px solid var(--fill-color);\n",
              "    border-color: transparent;\n",
              "    border-bottom-color: var(--fill-color);\n",
              "    animation:\n",
              "      spin 1s steps(1) infinite;\n",
              "  }\n",
              "\n",
              "  @keyframes spin {\n",
              "    0% {\n",
              "      border-color: transparent;\n",
              "      border-bottom-color: var(--fill-color);\n",
              "      border-left-color: var(--fill-color);\n",
              "    }\n",
              "    20% {\n",
              "      border-color: transparent;\n",
              "      border-left-color: var(--fill-color);\n",
              "      border-top-color: var(--fill-color);\n",
              "    }\n",
              "    30% {\n",
              "      border-color: transparent;\n",
              "      border-left-color: var(--fill-color);\n",
              "      border-top-color: var(--fill-color);\n",
              "      border-right-color: var(--fill-color);\n",
              "    }\n",
              "    40% {\n",
              "      border-color: transparent;\n",
              "      border-right-color: var(--fill-color);\n",
              "      border-top-color: var(--fill-color);\n",
              "    }\n",
              "    60% {\n",
              "      border-color: transparent;\n",
              "      border-right-color: var(--fill-color);\n",
              "    }\n",
              "    80% {\n",
              "      border-color: transparent;\n",
              "      border-right-color: var(--fill-color);\n",
              "      border-bottom-color: var(--fill-color);\n",
              "    }\n",
              "    90% {\n",
              "      border-color: transparent;\n",
              "      border-bottom-color: var(--fill-color);\n",
              "    }\n",
              "  }\n",
              "</style>\n",
              "\n",
              "  <script>\n",
              "    async function quickchart(key) {\n",
              "      const quickchartButtonEl =\n",
              "        document.querySelector('#' + key + ' button');\n",
              "      quickchartButtonEl.disabled = true;  // To prevent multiple clicks.\n",
              "      quickchartButtonEl.classList.add('colab-df-spinner');\n",
              "      try {\n",
              "        const charts = await google.colab.kernel.invokeFunction(\n",
              "            'suggestCharts', [key], {});\n",
              "      } catch (error) {\n",
              "        console.error('Error during call to suggestCharts:', error);\n",
              "      }\n",
              "      quickchartButtonEl.classList.remove('colab-df-spinner');\n",
              "      quickchartButtonEl.classList.add('colab-df-quickchart-complete');\n",
              "    }\n",
              "    (() => {\n",
              "      let quickchartButtonEl =\n",
              "        document.querySelector('#df-89eb82e7-9a57-46e7-93e8-9a176c9c587d button');\n",
              "      quickchartButtonEl.style.display =\n",
              "        google.colab.kernel.accessAllowed ? 'block' : 'none';\n",
              "    })();\n",
              "  </script>\n",
              "</div>\n",
              "    </div>\n",
              "  </div>\n"
            ]
          },
          "metadata": {},
          "execution_count": 6
        }
      ]
    },
    {
      "cell_type": "markdown",
      "source": [
        "# Data Cleaning\n"
      ],
      "metadata": {
        "id": "GJmrBhIsezyC"
      }
    },
    {
      "cell_type": "code",
      "source": [
        "df[\"online_order\"].value_counts()"
      ],
      "metadata": {
        "id": "VqWu4STX8-99",
        "colab": {
          "base_uri": "https://localhost:8080/"
        },
        "outputId": "12b07db2-153e-4ef5-a8b6-5449d568f58b"
      },
      "execution_count": null,
      "outputs": [
        {
          "output_type": "execute_result",
          "data": {
            "text/plain": [
              "Yes                                                                                                                                                                                30444\n",
              "No                                                                                                                                                                                 21273\n",
              " ('Rated 4.0'                                                                                                                                                                        438\n",
              " ('Rated 5.0'                                                                                                                                                                        390\n",
              " ('Rated 3.0'                                                                                                                                                                        170\n",
              "                                                                                                                                                                                   ...  \n",
              " but less options just 2 items for every kind                                                                                                                                          1\n",
              " which were good.\"\")                                                                                                                                                                   1\n",
              " \"\"RATED\\n  I would say                                                                                                                                                                1\n",
              " \"\"RATED\\n  A small cozy homely place to chit chat with real friends & savour hot Chinese & North Indian food. Service quality is absolutely good. Don't expect a swag ambiance        1\n",
              " 'RATED\\n  Ambiance - 6/10\\n\\nIt needs to be more tidy... used tissues scrambled the floor                                                                                             1\n",
              "Name: online_order, Length: 2638, dtype: int64"
            ]
          },
          "metadata": {},
          "execution_count": 7
        }
      ]
    },
    {
      "cell_type": "code",
      "source": [
        "df.info()"
      ],
      "metadata": {
        "id": "cfYQYHyA8_Al",
        "colab": {
          "base_uri": "https://localhost:8080/"
        },
        "outputId": "75564c8c-fbdc-40a4-ddf6-1781da85a190"
      },
      "execution_count": null,
      "outputs": [
        {
          "output_type": "stream",
          "name": "stdout",
          "text": [
            "<class 'pandas.core.frame.DataFrame'>\n",
            "RangeIndex: 55982 entries, 0 to 55981\n",
            "Data columns (total 14 columns):\n",
            " #   Column                       Non-Null Count  Dtype \n",
            "---  ------                       --------------  ----- \n",
            " 0   name                         55976 non-null  object\n",
            " 1   online_order                 55977 non-null  object\n",
            " 2   book_table                   55949 non-null  object\n",
            " 3   rate                         48164 non-null  object\n",
            " 4   votes                        55927 non-null  object\n",
            " 5   location                     55893 non-null  object\n",
            " 6   rest_type                    55676 non-null  object\n",
            " 7   dish_liked                   27815 non-null  object\n",
            " 8   cuisines                     55836 non-null  object\n",
            " 9   approx_cost(for two people)  55519 non-null  object\n",
            " 10  reviews_list                 55853 non-null  object\n",
            " 11  menu_item                    51588 non-null  object\n",
            " 12  listed_in(type)              51576 non-null  object\n",
            " 13  listed_in(city)              51564 non-null  object\n",
            "dtypes: object(14)\n",
            "memory usage: 6.0+ MB\n"
          ]
        }
      ]
    },
    {
      "cell_type": "code",
      "source": [
        "df['book_table'].value_counts()"
      ],
      "metadata": {
        "id": "ouuz80K-lxep",
        "colab": {
          "base_uri": "https://localhost:8080/"
        },
        "outputId": "1e6ad1fa-e9aa-4596-ceaa-af932d6ac824"
      },
      "execution_count": null,
      "outputs": [
        {
          "output_type": "execute_result",
          "data": {
            "text/plain": [
              "No                                                                                                                                                                                                                                                            45268\n",
              "Yes                                                                                                                                                                                                                                                            6449\n",
              " ('Rated 4.0'                                                                                                                                                                                                                                                   375\n",
              " ('Rated 5.0'                                                                                                                                                                                                                                                   306\n",
              " ('Rated 3.0'                                                                                                                                                                                                                                                   149\n",
              "                                                                                                                                                                                                                                                              ...  \n",
              " 'RATED\\n  @ Vegacity mall food court                                                                                                                                                                                                                             1\n",
              " 'RATED\\n  Good place to hang out                                                                                                                                                                                                                                 1\n",
              " 'RATED\\n  They serve decent biriyani(quality doesnt match with the hype) .. 3 star for inconsistency                                                                                                                                                             1\n",
              " 'RATED\\n  Small little place in jp nagar . Good buffet spread . Chose the alacarte though n enjoyed every dish . The fish masala fry                                                                                                                             1\n",
              " dirty tables etc... is really a turn off...\\n\\nFood - 7/10\\n\\nVeg Nachos - Lacks the punch... wish the salsa tasted better... nd also wud be grt if u cud introduce an option without gluocumole (not really a fan of it)\\n\\nVeg Sheek Kabab - Tasted Grt        1\n",
              "Name: book_table, Length: 2891, dtype: int64"
            ]
          },
          "metadata": {},
          "execution_count": 9
        }
      ]
    },
    {
      "cell_type": "code",
      "source": [
        "df = df[df[\"online_order\"].isin([\"Yes\",\"No\"])]"
      ],
      "metadata": {
        "id": "TRVMJMnOlxjm"
      },
      "execution_count": null,
      "outputs": []
    },
    {
      "cell_type": "code",
      "source": [
        "df.shape"
      ],
      "metadata": {
        "id": "o8Bw_V9Clxoz",
        "colab": {
          "base_uri": "https://localhost:8080/"
        },
        "outputId": "fc7cc6dd-8286-41da-93c4-0c48a903ffb5"
      },
      "execution_count": null,
      "outputs": [
        {
          "output_type": "execute_result",
          "data": {
            "text/plain": [
              "(51717, 14)"
            ]
          },
          "metadata": {},
          "execution_count": 11
        }
      ]
    },
    {
      "cell_type": "code",
      "source": [
        "df[\"rate\"] = df[\"rate\"].str.replace(\"/5\" , \"\")"
      ],
      "metadata": {
        "id": "0tCt467PnxI2"
      },
      "execution_count": null,
      "outputs": []
    },
    {
      "cell_type": "code",
      "source": [
        "df.duplicated().sum()"
      ],
      "metadata": {
        "id": "c1roQ6Q8s_Fj",
        "colab": {
          "base_uri": "https://localhost:8080/"
        },
        "outputId": "fcb87f6a-1b0e-4786-f0c6-ed61ec3afb77"
      },
      "execution_count": null,
      "outputs": [
        {
          "output_type": "execute_result",
          "data": {
            "text/plain": [
              "110"
            ]
          },
          "metadata": {},
          "execution_count": 13
        }
      ]
    },
    {
      "cell_type": "code",
      "source": [
        "df.drop_duplicates()"
      ],
      "metadata": {
        "id": "7F66A4NpnxLn",
        "colab": {
          "base_uri": "https://localhost:8080/",
          "height": 1000
        },
        "outputId": "71219aa6-2b8f-49f7-c85c-09a6efa6a507"
      },
      "execution_count": null,
      "outputs": [
        {
          "output_type": "execute_result",
          "data": {
            "text/plain": [
              "                                                    name online_order  \\\n",
              "0                                                  Jalsa          Yes   \n",
              "1                                         Spice Elephant          Yes   \n",
              "2                                        San Churro Cafe          Yes   \n",
              "3                                  Addhuri Udupi Bhojana           No   \n",
              "4                                          Grand Village           No   \n",
              "...                                                  ...          ...   \n",
              "55977  Best Brews - Four Points by Sheraton Bengaluru...           No   \n",
              "55978                           Vinod Bar And Restaurant           No   \n",
              "55979  Plunge - Sheraton Grand Bengaluru Whitefield H...           No   \n",
              "55980  Chime - Sheraton Grand Bengaluru Whitefield Ho...           No   \n",
              "55981                       The Nest - The Den Bengaluru           No   \n",
              "\n",
              "      book_table  rate votes                    location            rest_type  \\\n",
              "0            Yes   4.1   775                Banashankari        Casual Dining   \n",
              "1             No   4.1   787                Banashankari        Casual Dining   \n",
              "2             No   3.8   918                Banashankari  Cafe, Casual Dining   \n",
              "3             No   3.7    88                Banashankari          Quick Bites   \n",
              "4             No   3.8   166                Basavanagudi        Casual Dining   \n",
              "...          ...   ...   ...                         ...                  ...   \n",
              "55977         No  3.6     27                  Whitefield                  Bar   \n",
              "55978         No   NaN     0                  Whitefield                  Bar   \n",
              "55979         No   NaN     0                  Whitefield                  Bar   \n",
              "55980        Yes  4.3    236  ITPL Main Road, Whitefield                  Bar   \n",
              "55981         No  3.4     13  ITPL Main Road, Whitefield   Bar, Casual Dining   \n",
              "\n",
              "                                              dish_liked  \\\n",
              "0      Pasta, Lunch Buffet, Masala Papad, Paneer Laja...   \n",
              "1      Momos, Lunch Buffet, Chocolate Nirvana, Thai G...   \n",
              "2      Churros, Cannelloni, Minestrone Soup, Hot Choc...   \n",
              "3                                            Masala Dosa   \n",
              "4                                    Panipuri, Gol Gappe   \n",
              "...                                                  ...   \n",
              "55977                                                NaN   \n",
              "55978                                                NaN   \n",
              "55979                                                NaN   \n",
              "55980                       Cocktails, Pizza, Buttermilk   \n",
              "55981                                                NaN   \n",
              "\n",
              "                                     cuisines approx_cost(for two people)  \\\n",
              "0              North Indian, Mughlai, Chinese                         800   \n",
              "1                 Chinese, North Indian, Thai                         800   \n",
              "2                      Cafe, Mexican, Italian                         800   \n",
              "3                  South Indian, North Indian                         300   \n",
              "4                    North Indian, Rajasthani                         600   \n",
              "...                                       ...                         ...   \n",
              "55977                             Continental                       1,500   \n",
              "55978                             Finger Food                         600   \n",
              "55979                             Finger Food                       2,000   \n",
              "55980                             Finger Food                       2,500   \n",
              "55981  Finger Food, North Indian, Continental                       1,500   \n",
              "\n",
              "                                            reviews_list menu_item  \\\n",
              "0      [('Rated 4.0', 'RATED\\n  A beautiful place to ...        []   \n",
              "1      [('Rated 4.0', 'RATED\\n  Had been here for din...        []   \n",
              "2      [('Rated 3.0', \"RATED\\n  Ambience is not that ...        []   \n",
              "3      [('Rated 4.0', \"RATED\\n  Great food and proper...        []   \n",
              "4      [('Rated 4.0', 'RATED\\n  Very good restaurant ...        []   \n",
              "...                                                  ...       ...   \n",
              "55977  [('Rated 5.0', \"RATED\\n  Food and service are ...        []   \n",
              "55978                                                 []        []   \n",
              "55979                                                 []        []   \n",
              "55980  [('Rated 4.0', 'RATED\\n  Nice and friendly pla...        []   \n",
              "55981  [('Rated 5.0', 'RATED\\n  Great ambience , look...        []   \n",
              "\n",
              "      listed_in(type) listed_in(city)  \n",
              "0              Buffet    Banashankari  \n",
              "1              Buffet    Banashankari  \n",
              "2              Buffet    Banashankari  \n",
              "3              Buffet    Banashankari  \n",
              "4              Buffet    Banashankari  \n",
              "...               ...             ...  \n",
              "55977   Pubs and bars      Whitefield  \n",
              "55978   Pubs and bars      Whitefield  \n",
              "55979   Pubs and bars      Whitefield  \n",
              "55980   Pubs and bars      Whitefield  \n",
              "55981   Pubs and bars      Whitefield  \n",
              "\n",
              "[51607 rows x 14 columns]"
            ],
            "text/html": [
              "\n",
              "  <div id=\"df-5fa092b6-5f4b-47d8-a15b-00795588c72d\" class=\"colab-df-container\">\n",
              "    <div>\n",
              "<style scoped>\n",
              "    .dataframe tbody tr th:only-of-type {\n",
              "        vertical-align: middle;\n",
              "    }\n",
              "\n",
              "    .dataframe tbody tr th {\n",
              "        vertical-align: top;\n",
              "    }\n",
              "\n",
              "    .dataframe thead th {\n",
              "        text-align: right;\n",
              "    }\n",
              "</style>\n",
              "<table border=\"1\" class=\"dataframe\">\n",
              "  <thead>\n",
              "    <tr style=\"text-align: right;\">\n",
              "      <th></th>\n",
              "      <th>name</th>\n",
              "      <th>online_order</th>\n",
              "      <th>book_table</th>\n",
              "      <th>rate</th>\n",
              "      <th>votes</th>\n",
              "      <th>location</th>\n",
              "      <th>rest_type</th>\n",
              "      <th>dish_liked</th>\n",
              "      <th>cuisines</th>\n",
              "      <th>approx_cost(for two people)</th>\n",
              "      <th>reviews_list</th>\n",
              "      <th>menu_item</th>\n",
              "      <th>listed_in(type)</th>\n",
              "      <th>listed_in(city)</th>\n",
              "    </tr>\n",
              "  </thead>\n",
              "  <tbody>\n",
              "    <tr>\n",
              "      <th>0</th>\n",
              "      <td>Jalsa</td>\n",
              "      <td>Yes</td>\n",
              "      <td>Yes</td>\n",
              "      <td>4.1</td>\n",
              "      <td>775</td>\n",
              "      <td>Banashankari</td>\n",
              "      <td>Casual Dining</td>\n",
              "      <td>Pasta, Lunch Buffet, Masala Papad, Paneer Laja...</td>\n",
              "      <td>North Indian, Mughlai, Chinese</td>\n",
              "      <td>800</td>\n",
              "      <td>[('Rated 4.0', 'RATED\\n  A beautiful place to ...</td>\n",
              "      <td>[]</td>\n",
              "      <td>Buffet</td>\n",
              "      <td>Banashankari</td>\n",
              "    </tr>\n",
              "    <tr>\n",
              "      <th>1</th>\n",
              "      <td>Spice Elephant</td>\n",
              "      <td>Yes</td>\n",
              "      <td>No</td>\n",
              "      <td>4.1</td>\n",
              "      <td>787</td>\n",
              "      <td>Banashankari</td>\n",
              "      <td>Casual Dining</td>\n",
              "      <td>Momos, Lunch Buffet, Chocolate Nirvana, Thai G...</td>\n",
              "      <td>Chinese, North Indian, Thai</td>\n",
              "      <td>800</td>\n",
              "      <td>[('Rated 4.0', 'RATED\\n  Had been here for din...</td>\n",
              "      <td>[]</td>\n",
              "      <td>Buffet</td>\n",
              "      <td>Banashankari</td>\n",
              "    </tr>\n",
              "    <tr>\n",
              "      <th>2</th>\n",
              "      <td>San Churro Cafe</td>\n",
              "      <td>Yes</td>\n",
              "      <td>No</td>\n",
              "      <td>3.8</td>\n",
              "      <td>918</td>\n",
              "      <td>Banashankari</td>\n",
              "      <td>Cafe, Casual Dining</td>\n",
              "      <td>Churros, Cannelloni, Minestrone Soup, Hot Choc...</td>\n",
              "      <td>Cafe, Mexican, Italian</td>\n",
              "      <td>800</td>\n",
              "      <td>[('Rated 3.0', \"RATED\\n  Ambience is not that ...</td>\n",
              "      <td>[]</td>\n",
              "      <td>Buffet</td>\n",
              "      <td>Banashankari</td>\n",
              "    </tr>\n",
              "    <tr>\n",
              "      <th>3</th>\n",
              "      <td>Addhuri Udupi Bhojana</td>\n",
              "      <td>No</td>\n",
              "      <td>No</td>\n",
              "      <td>3.7</td>\n",
              "      <td>88</td>\n",
              "      <td>Banashankari</td>\n",
              "      <td>Quick Bites</td>\n",
              "      <td>Masala Dosa</td>\n",
              "      <td>South Indian, North Indian</td>\n",
              "      <td>300</td>\n",
              "      <td>[('Rated 4.0', \"RATED\\n  Great food and proper...</td>\n",
              "      <td>[]</td>\n",
              "      <td>Buffet</td>\n",
              "      <td>Banashankari</td>\n",
              "    </tr>\n",
              "    <tr>\n",
              "      <th>4</th>\n",
              "      <td>Grand Village</td>\n",
              "      <td>No</td>\n",
              "      <td>No</td>\n",
              "      <td>3.8</td>\n",
              "      <td>166</td>\n",
              "      <td>Basavanagudi</td>\n",
              "      <td>Casual Dining</td>\n",
              "      <td>Panipuri, Gol Gappe</td>\n",
              "      <td>North Indian, Rajasthani</td>\n",
              "      <td>600</td>\n",
              "      <td>[('Rated 4.0', 'RATED\\n  Very good restaurant ...</td>\n",
              "      <td>[]</td>\n",
              "      <td>Buffet</td>\n",
              "      <td>Banashankari</td>\n",
              "    </tr>\n",
              "    <tr>\n",
              "      <th>...</th>\n",
              "      <td>...</td>\n",
              "      <td>...</td>\n",
              "      <td>...</td>\n",
              "      <td>...</td>\n",
              "      <td>...</td>\n",
              "      <td>...</td>\n",
              "      <td>...</td>\n",
              "      <td>...</td>\n",
              "      <td>...</td>\n",
              "      <td>...</td>\n",
              "      <td>...</td>\n",
              "      <td>...</td>\n",
              "      <td>...</td>\n",
              "      <td>...</td>\n",
              "    </tr>\n",
              "    <tr>\n",
              "      <th>55977</th>\n",
              "      <td>Best Brews - Four Points by Sheraton Bengaluru...</td>\n",
              "      <td>No</td>\n",
              "      <td>No</td>\n",
              "      <td>3.6</td>\n",
              "      <td>27</td>\n",
              "      <td>Whitefield</td>\n",
              "      <td>Bar</td>\n",
              "      <td>NaN</td>\n",
              "      <td>Continental</td>\n",
              "      <td>1,500</td>\n",
              "      <td>[('Rated 5.0', \"RATED\\n  Food and service are ...</td>\n",
              "      <td>[]</td>\n",
              "      <td>Pubs and bars</td>\n",
              "      <td>Whitefield</td>\n",
              "    </tr>\n",
              "    <tr>\n",
              "      <th>55978</th>\n",
              "      <td>Vinod Bar And Restaurant</td>\n",
              "      <td>No</td>\n",
              "      <td>No</td>\n",
              "      <td>NaN</td>\n",
              "      <td>0</td>\n",
              "      <td>Whitefield</td>\n",
              "      <td>Bar</td>\n",
              "      <td>NaN</td>\n",
              "      <td>Finger Food</td>\n",
              "      <td>600</td>\n",
              "      <td>[]</td>\n",
              "      <td>[]</td>\n",
              "      <td>Pubs and bars</td>\n",
              "      <td>Whitefield</td>\n",
              "    </tr>\n",
              "    <tr>\n",
              "      <th>55979</th>\n",
              "      <td>Plunge - Sheraton Grand Bengaluru Whitefield H...</td>\n",
              "      <td>No</td>\n",
              "      <td>No</td>\n",
              "      <td>NaN</td>\n",
              "      <td>0</td>\n",
              "      <td>Whitefield</td>\n",
              "      <td>Bar</td>\n",
              "      <td>NaN</td>\n",
              "      <td>Finger Food</td>\n",
              "      <td>2,000</td>\n",
              "      <td>[]</td>\n",
              "      <td>[]</td>\n",
              "      <td>Pubs and bars</td>\n",
              "      <td>Whitefield</td>\n",
              "    </tr>\n",
              "    <tr>\n",
              "      <th>55980</th>\n",
              "      <td>Chime - Sheraton Grand Bengaluru Whitefield Ho...</td>\n",
              "      <td>No</td>\n",
              "      <td>Yes</td>\n",
              "      <td>4.3</td>\n",
              "      <td>236</td>\n",
              "      <td>ITPL Main Road, Whitefield</td>\n",
              "      <td>Bar</td>\n",
              "      <td>Cocktails, Pizza, Buttermilk</td>\n",
              "      <td>Finger Food</td>\n",
              "      <td>2,500</td>\n",
              "      <td>[('Rated 4.0', 'RATED\\n  Nice and friendly pla...</td>\n",
              "      <td>[]</td>\n",
              "      <td>Pubs and bars</td>\n",
              "      <td>Whitefield</td>\n",
              "    </tr>\n",
              "    <tr>\n",
              "      <th>55981</th>\n",
              "      <td>The Nest - The Den Bengaluru</td>\n",
              "      <td>No</td>\n",
              "      <td>No</td>\n",
              "      <td>3.4</td>\n",
              "      <td>13</td>\n",
              "      <td>ITPL Main Road, Whitefield</td>\n",
              "      <td>Bar, Casual Dining</td>\n",
              "      <td>NaN</td>\n",
              "      <td>Finger Food, North Indian, Continental</td>\n",
              "      <td>1,500</td>\n",
              "      <td>[('Rated 5.0', 'RATED\\n  Great ambience , look...</td>\n",
              "      <td>[]</td>\n",
              "      <td>Pubs and bars</td>\n",
              "      <td>Whitefield</td>\n",
              "    </tr>\n",
              "  </tbody>\n",
              "</table>\n",
              "<p>51607 rows × 14 columns</p>\n",
              "</div>\n",
              "    <div class=\"colab-df-buttons\">\n",
              "\n",
              "  <div class=\"colab-df-container\">\n",
              "    <button class=\"colab-df-convert\" onclick=\"convertToInteractive('df-5fa092b6-5f4b-47d8-a15b-00795588c72d')\"\n",
              "            title=\"Convert this dataframe to an interactive table.\"\n",
              "            style=\"display:none;\">\n",
              "\n",
              "  <svg xmlns=\"http://www.w3.org/2000/svg\" height=\"24px\" viewBox=\"0 -960 960 960\">\n",
              "    <path d=\"M120-120v-720h720v720H120Zm60-500h600v-160H180v160Zm220 220h160v-160H400v160Zm0 220h160v-160H400v160ZM180-400h160v-160H180v160Zm440 0h160v-160H620v160ZM180-180h160v-160H180v160Zm440 0h160v-160H620v160Z\"/>\n",
              "  </svg>\n",
              "    </button>\n",
              "\n",
              "  <style>\n",
              "    .colab-df-container {\n",
              "      display:flex;\n",
              "      gap: 12px;\n",
              "    }\n",
              "\n",
              "    .colab-df-convert {\n",
              "      background-color: #E8F0FE;\n",
              "      border: none;\n",
              "      border-radius: 50%;\n",
              "      cursor: pointer;\n",
              "      display: none;\n",
              "      fill: #1967D2;\n",
              "      height: 32px;\n",
              "      padding: 0 0 0 0;\n",
              "      width: 32px;\n",
              "    }\n",
              "\n",
              "    .colab-df-convert:hover {\n",
              "      background-color: #E2EBFA;\n",
              "      box-shadow: 0px 1px 2px rgba(60, 64, 67, 0.3), 0px 1px 3px 1px rgba(60, 64, 67, 0.15);\n",
              "      fill: #174EA6;\n",
              "    }\n",
              "\n",
              "    .colab-df-buttons div {\n",
              "      margin-bottom: 4px;\n",
              "    }\n",
              "\n",
              "    [theme=dark] .colab-df-convert {\n",
              "      background-color: #3B4455;\n",
              "      fill: #D2E3FC;\n",
              "    }\n",
              "\n",
              "    [theme=dark] .colab-df-convert:hover {\n",
              "      background-color: #434B5C;\n",
              "      box-shadow: 0px 1px 3px 1px rgba(0, 0, 0, 0.15);\n",
              "      filter: drop-shadow(0px 1px 2px rgba(0, 0, 0, 0.3));\n",
              "      fill: #FFFFFF;\n",
              "    }\n",
              "  </style>\n",
              "\n",
              "    <script>\n",
              "      const buttonEl =\n",
              "        document.querySelector('#df-5fa092b6-5f4b-47d8-a15b-00795588c72d button.colab-df-convert');\n",
              "      buttonEl.style.display =\n",
              "        google.colab.kernel.accessAllowed ? 'block' : 'none';\n",
              "\n",
              "      async function convertToInteractive(key) {\n",
              "        const element = document.querySelector('#df-5fa092b6-5f4b-47d8-a15b-00795588c72d');\n",
              "        const dataTable =\n",
              "          await google.colab.kernel.invokeFunction('convertToInteractive',\n",
              "                                                    [key], {});\n",
              "        if (!dataTable) return;\n",
              "\n",
              "        const docLinkHtml = 'Like what you see? Visit the ' +\n",
              "          '<a target=\"_blank\" href=https://colab.research.google.com/notebooks/data_table.ipynb>data table notebook</a>'\n",
              "          + ' to learn more about interactive tables.';\n",
              "        element.innerHTML = '';\n",
              "        dataTable['output_type'] = 'display_data';\n",
              "        await google.colab.output.renderOutput(dataTable, element);\n",
              "        const docLink = document.createElement('div');\n",
              "        docLink.innerHTML = docLinkHtml;\n",
              "        element.appendChild(docLink);\n",
              "      }\n",
              "    </script>\n",
              "  </div>\n",
              "\n",
              "\n",
              "<div id=\"df-a930b55e-a58f-4a35-939c-3863b30380c9\">\n",
              "  <button class=\"colab-df-quickchart\" onclick=\"quickchart('df-a930b55e-a58f-4a35-939c-3863b30380c9')\"\n",
              "            title=\"Suggest charts.\"\n",
              "            style=\"display:none;\">\n",
              "\n",
              "<svg xmlns=\"http://www.w3.org/2000/svg\" height=\"24px\"viewBox=\"0 0 24 24\"\n",
              "     width=\"24px\">\n",
              "    <g>\n",
              "        <path d=\"M19 3H5c-1.1 0-2 .9-2 2v14c0 1.1.9 2 2 2h14c1.1 0 2-.9 2-2V5c0-1.1-.9-2-2-2zM9 17H7v-7h2v7zm4 0h-2V7h2v10zm4 0h-2v-4h2v4z\"/>\n",
              "    </g>\n",
              "</svg>\n",
              "  </button>\n",
              "\n",
              "<style>\n",
              "  .colab-df-quickchart {\n",
              "      --bg-color: #E8F0FE;\n",
              "      --fill-color: #1967D2;\n",
              "      --hover-bg-color: #E2EBFA;\n",
              "      --hover-fill-color: #174EA6;\n",
              "      --disabled-fill-color: #AAA;\n",
              "      --disabled-bg-color: #DDD;\n",
              "  }\n",
              "\n",
              "  [theme=dark] .colab-df-quickchart {\n",
              "      --bg-color: #3B4455;\n",
              "      --fill-color: #D2E3FC;\n",
              "      --hover-bg-color: #434B5C;\n",
              "      --hover-fill-color: #FFFFFF;\n",
              "      --disabled-bg-color: #3B4455;\n",
              "      --disabled-fill-color: #666;\n",
              "  }\n",
              "\n",
              "  .colab-df-quickchart {\n",
              "    background-color: var(--bg-color);\n",
              "    border: none;\n",
              "    border-radius: 50%;\n",
              "    cursor: pointer;\n",
              "    display: none;\n",
              "    fill: var(--fill-color);\n",
              "    height: 32px;\n",
              "    padding: 0;\n",
              "    width: 32px;\n",
              "  }\n",
              "\n",
              "  .colab-df-quickchart:hover {\n",
              "    background-color: var(--hover-bg-color);\n",
              "    box-shadow: 0 1px 2px rgba(60, 64, 67, 0.3), 0 1px 3px 1px rgba(60, 64, 67, 0.15);\n",
              "    fill: var(--button-hover-fill-color);\n",
              "  }\n",
              "\n",
              "  .colab-df-quickchart-complete:disabled,\n",
              "  .colab-df-quickchart-complete:disabled:hover {\n",
              "    background-color: var(--disabled-bg-color);\n",
              "    fill: var(--disabled-fill-color);\n",
              "    box-shadow: none;\n",
              "  }\n",
              "\n",
              "  .colab-df-spinner {\n",
              "    border: 2px solid var(--fill-color);\n",
              "    border-color: transparent;\n",
              "    border-bottom-color: var(--fill-color);\n",
              "    animation:\n",
              "      spin 1s steps(1) infinite;\n",
              "  }\n",
              "\n",
              "  @keyframes spin {\n",
              "    0% {\n",
              "      border-color: transparent;\n",
              "      border-bottom-color: var(--fill-color);\n",
              "      border-left-color: var(--fill-color);\n",
              "    }\n",
              "    20% {\n",
              "      border-color: transparent;\n",
              "      border-left-color: var(--fill-color);\n",
              "      border-top-color: var(--fill-color);\n",
              "    }\n",
              "    30% {\n",
              "      border-color: transparent;\n",
              "      border-left-color: var(--fill-color);\n",
              "      border-top-color: var(--fill-color);\n",
              "      border-right-color: var(--fill-color);\n",
              "    }\n",
              "    40% {\n",
              "      border-color: transparent;\n",
              "      border-right-color: var(--fill-color);\n",
              "      border-top-color: var(--fill-color);\n",
              "    }\n",
              "    60% {\n",
              "      border-color: transparent;\n",
              "      border-right-color: var(--fill-color);\n",
              "    }\n",
              "    80% {\n",
              "      border-color: transparent;\n",
              "      border-right-color: var(--fill-color);\n",
              "      border-bottom-color: var(--fill-color);\n",
              "    }\n",
              "    90% {\n",
              "      border-color: transparent;\n",
              "      border-bottom-color: var(--fill-color);\n",
              "    }\n",
              "  }\n",
              "</style>\n",
              "\n",
              "  <script>\n",
              "    async function quickchart(key) {\n",
              "      const quickchartButtonEl =\n",
              "        document.querySelector('#' + key + ' button');\n",
              "      quickchartButtonEl.disabled = true;  // To prevent multiple clicks.\n",
              "      quickchartButtonEl.classList.add('colab-df-spinner');\n",
              "      try {\n",
              "        const charts = await google.colab.kernel.invokeFunction(\n",
              "            'suggestCharts', [key], {});\n",
              "      } catch (error) {\n",
              "        console.error('Error during call to suggestCharts:', error);\n",
              "      }\n",
              "      quickchartButtonEl.classList.remove('colab-df-spinner');\n",
              "      quickchartButtonEl.classList.add('colab-df-quickchart-complete');\n",
              "    }\n",
              "    (() => {\n",
              "      let quickchartButtonEl =\n",
              "        document.querySelector('#df-a930b55e-a58f-4a35-939c-3863b30380c9 button');\n",
              "      quickchartButtonEl.style.display =\n",
              "        google.colab.kernel.accessAllowed ? 'block' : 'none';\n",
              "    })();\n",
              "  </script>\n",
              "</div>\n",
              "    </div>\n",
              "  </div>\n"
            ]
          },
          "metadata": {},
          "execution_count": 14
        }
      ]
    },
    {
      "cell_type": "code",
      "source": [
        "df = df[df[\"rate\"] != \"NEW\"]"
      ],
      "metadata": {
        "id": "6RO_vrzgnxOa"
      },
      "execution_count": null,
      "outputs": []
    },
    {
      "cell_type": "code",
      "source": [
        "df = df[df[\"rate\"] != \"-\"]"
      ],
      "metadata": {
        "id": "lyYjv9smnxQs"
      },
      "execution_count": null,
      "outputs": []
    },
    {
      "cell_type": "code",
      "source": [
        "df[\"rate\"] = df[\"rate\"].astype(float)"
      ],
      "metadata": {
        "id": "iZEIkTGExqQR"
      },
      "execution_count": null,
      "outputs": []
    },
    {
      "cell_type": "code",
      "source": [
        "df[\"rate\"] = df['rate'].fillna(df['rate'].mean().round(1))"
      ],
      "metadata": {
        "id": "JM8ZkHeKxqWD"
      },
      "execution_count": null,
      "outputs": []
    },
    {
      "cell_type": "code",
      "source": [
        "df.shape"
      ],
      "metadata": {
        "id": "viMVjsuVnxTK",
        "colab": {
          "base_uri": "https://localhost:8080/"
        },
        "outputId": "01cc01b0-ae49-4926-e69a-1a4f2e9f2bdd"
      },
      "execution_count": null,
      "outputs": [
        {
          "output_type": "execute_result",
          "data": {
            "text/plain": [
              "(49440, 14)"
            ]
          },
          "metadata": {},
          "execution_count": 20
        }
      ]
    },
    {
      "cell_type": "code",
      "source": [
        "df[\"votes\"] = df['votes'].astype(int)"
      ],
      "metadata": {
        "id": "ItgsJNrenxV4"
      },
      "execution_count": null,
      "outputs": []
    },
    {
      "cell_type": "code",
      "source": [
        "df = df.rename(columns = {\"approx_cost(for two people)\" : \"cost\" , \"listed_in(type)\":\"type\",\n",
        "                     \"listed_in(city)\":\"city\" })"
      ],
      "metadata": {
        "id": "YHsxw67RnxYe"
      },
      "execution_count": null,
      "outputs": []
    },
    {
      "cell_type": "code",
      "source": [
        "df.head()"
      ],
      "metadata": {
        "id": "XxcYDwx5nxae",
        "colab": {
          "base_uri": "https://localhost:8080/",
          "height": 484
        },
        "outputId": "8837a0d5-17cf-40fa-cee6-584e6b3eef5c"
      },
      "execution_count": null,
      "outputs": [
        {
          "output_type": "execute_result",
          "data": {
            "text/plain": [
              "                    name online_order book_table  rate  votes      location  \\\n",
              "0                  Jalsa          Yes        Yes   4.1    775  Banashankari   \n",
              "1         Spice Elephant          Yes         No   4.1    787  Banashankari   \n",
              "2        San Churro Cafe          Yes         No   3.8    918  Banashankari   \n",
              "3  Addhuri Udupi Bhojana           No         No   3.7     88  Banashankari   \n",
              "4          Grand Village           No         No   3.8    166  Basavanagudi   \n",
              "\n",
              "             rest_type                                         dish_liked  \\\n",
              "0        Casual Dining  Pasta, Lunch Buffet, Masala Papad, Paneer Laja...   \n",
              "1        Casual Dining  Momos, Lunch Buffet, Chocolate Nirvana, Thai G...   \n",
              "2  Cafe, Casual Dining  Churros, Cannelloni, Minestrone Soup, Hot Choc...   \n",
              "3          Quick Bites                                        Masala Dosa   \n",
              "4        Casual Dining                                Panipuri, Gol Gappe   \n",
              "\n",
              "                         cuisines cost  \\\n",
              "0  North Indian, Mughlai, Chinese  800   \n",
              "1     Chinese, North Indian, Thai  800   \n",
              "2          Cafe, Mexican, Italian  800   \n",
              "3      South Indian, North Indian  300   \n",
              "4        North Indian, Rajasthani  600   \n",
              "\n",
              "                                        reviews_list menu_item    type  \\\n",
              "0  [('Rated 4.0', 'RATED\\n  A beautiful place to ...        []  Buffet   \n",
              "1  [('Rated 4.0', 'RATED\\n  Had been here for din...        []  Buffet   \n",
              "2  [('Rated 3.0', \"RATED\\n  Ambience is not that ...        []  Buffet   \n",
              "3  [('Rated 4.0', \"RATED\\n  Great food and proper...        []  Buffet   \n",
              "4  [('Rated 4.0', 'RATED\\n  Very good restaurant ...        []  Buffet   \n",
              "\n",
              "           city  \n",
              "0  Banashankari  \n",
              "1  Banashankari  \n",
              "2  Banashankari  \n",
              "3  Banashankari  \n",
              "4  Banashankari  "
            ],
            "text/html": [
              "\n",
              "  <div id=\"df-23b1e8df-e0df-4f96-8faa-595242bdc8f2\" class=\"colab-df-container\">\n",
              "    <div>\n",
              "<style scoped>\n",
              "    .dataframe tbody tr th:only-of-type {\n",
              "        vertical-align: middle;\n",
              "    }\n",
              "\n",
              "    .dataframe tbody tr th {\n",
              "        vertical-align: top;\n",
              "    }\n",
              "\n",
              "    .dataframe thead th {\n",
              "        text-align: right;\n",
              "    }\n",
              "</style>\n",
              "<table border=\"1\" class=\"dataframe\">\n",
              "  <thead>\n",
              "    <tr style=\"text-align: right;\">\n",
              "      <th></th>\n",
              "      <th>name</th>\n",
              "      <th>online_order</th>\n",
              "      <th>book_table</th>\n",
              "      <th>rate</th>\n",
              "      <th>votes</th>\n",
              "      <th>location</th>\n",
              "      <th>rest_type</th>\n",
              "      <th>dish_liked</th>\n",
              "      <th>cuisines</th>\n",
              "      <th>cost</th>\n",
              "      <th>reviews_list</th>\n",
              "      <th>menu_item</th>\n",
              "      <th>type</th>\n",
              "      <th>city</th>\n",
              "    </tr>\n",
              "  </thead>\n",
              "  <tbody>\n",
              "    <tr>\n",
              "      <th>0</th>\n",
              "      <td>Jalsa</td>\n",
              "      <td>Yes</td>\n",
              "      <td>Yes</td>\n",
              "      <td>4.1</td>\n",
              "      <td>775</td>\n",
              "      <td>Banashankari</td>\n",
              "      <td>Casual Dining</td>\n",
              "      <td>Pasta, Lunch Buffet, Masala Papad, Paneer Laja...</td>\n",
              "      <td>North Indian, Mughlai, Chinese</td>\n",
              "      <td>800</td>\n",
              "      <td>[('Rated 4.0', 'RATED\\n  A beautiful place to ...</td>\n",
              "      <td>[]</td>\n",
              "      <td>Buffet</td>\n",
              "      <td>Banashankari</td>\n",
              "    </tr>\n",
              "    <tr>\n",
              "      <th>1</th>\n",
              "      <td>Spice Elephant</td>\n",
              "      <td>Yes</td>\n",
              "      <td>No</td>\n",
              "      <td>4.1</td>\n",
              "      <td>787</td>\n",
              "      <td>Banashankari</td>\n",
              "      <td>Casual Dining</td>\n",
              "      <td>Momos, Lunch Buffet, Chocolate Nirvana, Thai G...</td>\n",
              "      <td>Chinese, North Indian, Thai</td>\n",
              "      <td>800</td>\n",
              "      <td>[('Rated 4.0', 'RATED\\n  Had been here for din...</td>\n",
              "      <td>[]</td>\n",
              "      <td>Buffet</td>\n",
              "      <td>Banashankari</td>\n",
              "    </tr>\n",
              "    <tr>\n",
              "      <th>2</th>\n",
              "      <td>San Churro Cafe</td>\n",
              "      <td>Yes</td>\n",
              "      <td>No</td>\n",
              "      <td>3.8</td>\n",
              "      <td>918</td>\n",
              "      <td>Banashankari</td>\n",
              "      <td>Cafe, Casual Dining</td>\n",
              "      <td>Churros, Cannelloni, Minestrone Soup, Hot Choc...</td>\n",
              "      <td>Cafe, Mexican, Italian</td>\n",
              "      <td>800</td>\n",
              "      <td>[('Rated 3.0', \"RATED\\n  Ambience is not that ...</td>\n",
              "      <td>[]</td>\n",
              "      <td>Buffet</td>\n",
              "      <td>Banashankari</td>\n",
              "    </tr>\n",
              "    <tr>\n",
              "      <th>3</th>\n",
              "      <td>Addhuri Udupi Bhojana</td>\n",
              "      <td>No</td>\n",
              "      <td>No</td>\n",
              "      <td>3.7</td>\n",
              "      <td>88</td>\n",
              "      <td>Banashankari</td>\n",
              "      <td>Quick Bites</td>\n",
              "      <td>Masala Dosa</td>\n",
              "      <td>South Indian, North Indian</td>\n",
              "      <td>300</td>\n",
              "      <td>[('Rated 4.0', \"RATED\\n  Great food and proper...</td>\n",
              "      <td>[]</td>\n",
              "      <td>Buffet</td>\n",
              "      <td>Banashankari</td>\n",
              "    </tr>\n",
              "    <tr>\n",
              "      <th>4</th>\n",
              "      <td>Grand Village</td>\n",
              "      <td>No</td>\n",
              "      <td>No</td>\n",
              "      <td>3.8</td>\n",
              "      <td>166</td>\n",
              "      <td>Basavanagudi</td>\n",
              "      <td>Casual Dining</td>\n",
              "      <td>Panipuri, Gol Gappe</td>\n",
              "      <td>North Indian, Rajasthani</td>\n",
              "      <td>600</td>\n",
              "      <td>[('Rated 4.0', 'RATED\\n  Very good restaurant ...</td>\n",
              "      <td>[]</td>\n",
              "      <td>Buffet</td>\n",
              "      <td>Banashankari</td>\n",
              "    </tr>\n",
              "  </tbody>\n",
              "</table>\n",
              "</div>\n",
              "    <div class=\"colab-df-buttons\">\n",
              "\n",
              "  <div class=\"colab-df-container\">\n",
              "    <button class=\"colab-df-convert\" onclick=\"convertToInteractive('df-23b1e8df-e0df-4f96-8faa-595242bdc8f2')\"\n",
              "            title=\"Convert this dataframe to an interactive table.\"\n",
              "            style=\"display:none;\">\n",
              "\n",
              "  <svg xmlns=\"http://www.w3.org/2000/svg\" height=\"24px\" viewBox=\"0 -960 960 960\">\n",
              "    <path d=\"M120-120v-720h720v720H120Zm60-500h600v-160H180v160Zm220 220h160v-160H400v160Zm0 220h160v-160H400v160ZM180-400h160v-160H180v160Zm440 0h160v-160H620v160ZM180-180h160v-160H180v160Zm440 0h160v-160H620v160Z\"/>\n",
              "  </svg>\n",
              "    </button>\n",
              "\n",
              "  <style>\n",
              "    .colab-df-container {\n",
              "      display:flex;\n",
              "      gap: 12px;\n",
              "    }\n",
              "\n",
              "    .colab-df-convert {\n",
              "      background-color: #E8F0FE;\n",
              "      border: none;\n",
              "      border-radius: 50%;\n",
              "      cursor: pointer;\n",
              "      display: none;\n",
              "      fill: #1967D2;\n",
              "      height: 32px;\n",
              "      padding: 0 0 0 0;\n",
              "      width: 32px;\n",
              "    }\n",
              "\n",
              "    .colab-df-convert:hover {\n",
              "      background-color: #E2EBFA;\n",
              "      box-shadow: 0px 1px 2px rgba(60, 64, 67, 0.3), 0px 1px 3px 1px rgba(60, 64, 67, 0.15);\n",
              "      fill: #174EA6;\n",
              "    }\n",
              "\n",
              "    .colab-df-buttons div {\n",
              "      margin-bottom: 4px;\n",
              "    }\n",
              "\n",
              "    [theme=dark] .colab-df-convert {\n",
              "      background-color: #3B4455;\n",
              "      fill: #D2E3FC;\n",
              "    }\n",
              "\n",
              "    [theme=dark] .colab-df-convert:hover {\n",
              "      background-color: #434B5C;\n",
              "      box-shadow: 0px 1px 3px 1px rgba(0, 0, 0, 0.15);\n",
              "      filter: drop-shadow(0px 1px 2px rgba(0, 0, 0, 0.3));\n",
              "      fill: #FFFFFF;\n",
              "    }\n",
              "  </style>\n",
              "\n",
              "    <script>\n",
              "      const buttonEl =\n",
              "        document.querySelector('#df-23b1e8df-e0df-4f96-8faa-595242bdc8f2 button.colab-df-convert');\n",
              "      buttonEl.style.display =\n",
              "        google.colab.kernel.accessAllowed ? 'block' : 'none';\n",
              "\n",
              "      async function convertToInteractive(key) {\n",
              "        const element = document.querySelector('#df-23b1e8df-e0df-4f96-8faa-595242bdc8f2');\n",
              "        const dataTable =\n",
              "          await google.colab.kernel.invokeFunction('convertToInteractive',\n",
              "                                                    [key], {});\n",
              "        if (!dataTable) return;\n",
              "\n",
              "        const docLinkHtml = 'Like what you see? Visit the ' +\n",
              "          '<a target=\"_blank\" href=https://colab.research.google.com/notebooks/data_table.ipynb>data table notebook</a>'\n",
              "          + ' to learn more about interactive tables.';\n",
              "        element.innerHTML = '';\n",
              "        dataTable['output_type'] = 'display_data';\n",
              "        await google.colab.output.renderOutput(dataTable, element);\n",
              "        const docLink = document.createElement('div');\n",
              "        docLink.innerHTML = docLinkHtml;\n",
              "        element.appendChild(docLink);\n",
              "      }\n",
              "    </script>\n",
              "  </div>\n",
              "\n",
              "\n",
              "<div id=\"df-da273154-d07e-4375-90cb-a4e2dc20051e\">\n",
              "  <button class=\"colab-df-quickchart\" onclick=\"quickchart('df-da273154-d07e-4375-90cb-a4e2dc20051e')\"\n",
              "            title=\"Suggest charts.\"\n",
              "            style=\"display:none;\">\n",
              "\n",
              "<svg xmlns=\"http://www.w3.org/2000/svg\" height=\"24px\"viewBox=\"0 0 24 24\"\n",
              "     width=\"24px\">\n",
              "    <g>\n",
              "        <path d=\"M19 3H5c-1.1 0-2 .9-2 2v14c0 1.1.9 2 2 2h14c1.1 0 2-.9 2-2V5c0-1.1-.9-2-2-2zM9 17H7v-7h2v7zm4 0h-2V7h2v10zm4 0h-2v-4h2v4z\"/>\n",
              "    </g>\n",
              "</svg>\n",
              "  </button>\n",
              "\n",
              "<style>\n",
              "  .colab-df-quickchart {\n",
              "      --bg-color: #E8F0FE;\n",
              "      --fill-color: #1967D2;\n",
              "      --hover-bg-color: #E2EBFA;\n",
              "      --hover-fill-color: #174EA6;\n",
              "      --disabled-fill-color: #AAA;\n",
              "      --disabled-bg-color: #DDD;\n",
              "  }\n",
              "\n",
              "  [theme=dark] .colab-df-quickchart {\n",
              "      --bg-color: #3B4455;\n",
              "      --fill-color: #D2E3FC;\n",
              "      --hover-bg-color: #434B5C;\n",
              "      --hover-fill-color: #FFFFFF;\n",
              "      --disabled-bg-color: #3B4455;\n",
              "      --disabled-fill-color: #666;\n",
              "  }\n",
              "\n",
              "  .colab-df-quickchart {\n",
              "    background-color: var(--bg-color);\n",
              "    border: none;\n",
              "    border-radius: 50%;\n",
              "    cursor: pointer;\n",
              "    display: none;\n",
              "    fill: var(--fill-color);\n",
              "    height: 32px;\n",
              "    padding: 0;\n",
              "    width: 32px;\n",
              "  }\n",
              "\n",
              "  .colab-df-quickchart:hover {\n",
              "    background-color: var(--hover-bg-color);\n",
              "    box-shadow: 0 1px 2px rgba(60, 64, 67, 0.3), 0 1px 3px 1px rgba(60, 64, 67, 0.15);\n",
              "    fill: var(--button-hover-fill-color);\n",
              "  }\n",
              "\n",
              "  .colab-df-quickchart-complete:disabled,\n",
              "  .colab-df-quickchart-complete:disabled:hover {\n",
              "    background-color: var(--disabled-bg-color);\n",
              "    fill: var(--disabled-fill-color);\n",
              "    box-shadow: none;\n",
              "  }\n",
              "\n",
              "  .colab-df-spinner {\n",
              "    border: 2px solid var(--fill-color);\n",
              "    border-color: transparent;\n",
              "    border-bottom-color: var(--fill-color);\n",
              "    animation:\n",
              "      spin 1s steps(1) infinite;\n",
              "  }\n",
              "\n",
              "  @keyframes spin {\n",
              "    0% {\n",
              "      border-color: transparent;\n",
              "      border-bottom-color: var(--fill-color);\n",
              "      border-left-color: var(--fill-color);\n",
              "    }\n",
              "    20% {\n",
              "      border-color: transparent;\n",
              "      border-left-color: var(--fill-color);\n",
              "      border-top-color: var(--fill-color);\n",
              "    }\n",
              "    30% {\n",
              "      border-color: transparent;\n",
              "      border-left-color: var(--fill-color);\n",
              "      border-top-color: var(--fill-color);\n",
              "      border-right-color: var(--fill-color);\n",
              "    }\n",
              "    40% {\n",
              "      border-color: transparent;\n",
              "      border-right-color: var(--fill-color);\n",
              "      border-top-color: var(--fill-color);\n",
              "    }\n",
              "    60% {\n",
              "      border-color: transparent;\n",
              "      border-right-color: var(--fill-color);\n",
              "    }\n",
              "    80% {\n",
              "      border-color: transparent;\n",
              "      border-right-color: var(--fill-color);\n",
              "      border-bottom-color: var(--fill-color);\n",
              "    }\n",
              "    90% {\n",
              "      border-color: transparent;\n",
              "      border-bottom-color: var(--fill-color);\n",
              "    }\n",
              "  }\n",
              "</style>\n",
              "\n",
              "  <script>\n",
              "    async function quickchart(key) {\n",
              "      const quickchartButtonEl =\n",
              "        document.querySelector('#' + key + ' button');\n",
              "      quickchartButtonEl.disabled = true;  // To prevent multiple clicks.\n",
              "      quickchartButtonEl.classList.add('colab-df-spinner');\n",
              "      try {\n",
              "        const charts = await google.colab.kernel.invokeFunction(\n",
              "            'suggestCharts', [key], {});\n",
              "      } catch (error) {\n",
              "        console.error('Error during call to suggestCharts:', error);\n",
              "      }\n",
              "      quickchartButtonEl.classList.remove('colab-df-spinner');\n",
              "      quickchartButtonEl.classList.add('colab-df-quickchart-complete');\n",
              "    }\n",
              "    (() => {\n",
              "      let quickchartButtonEl =\n",
              "        document.querySelector('#df-da273154-d07e-4375-90cb-a4e2dc20051e button');\n",
              "      quickchartButtonEl.style.display =\n",
              "        google.colab.kernel.accessAllowed ? 'block' : 'none';\n",
              "    })();\n",
              "  </script>\n",
              "</div>\n",
              "    </div>\n",
              "  </div>\n"
            ]
          },
          "metadata": {},
          "execution_count": 22
        }
      ]
    },
    {
      "cell_type": "code",
      "source": [
        "df[\"cost\"] = df['cost'].str.replace(\",\" , \"\")"
      ],
      "metadata": {
        "id": "rc5vE-3lnxc0"
      },
      "execution_count": null,
      "outputs": []
    },
    {
      "cell_type": "code",
      "source": [
        "# df['cost'].dropna(inplace = True)"
      ],
      "metadata": {
        "id": "ZU4wpWbQ4Cg5"
      },
      "execution_count": null,
      "outputs": []
    },
    {
      "cell_type": "code",
      "source": [
        "df[\"cost\"] = df[\"cost\"].fillna(df[\"cost\"].astype(float).mean()).astype(int)"
      ],
      "metadata": {
        "id": "4BeAp8jT4Cjb"
      },
      "execution_count": null,
      "outputs": []
    },
    {
      "cell_type": "markdown",
      "source": [
        "# Performing EDA"
      ],
      "metadata": {
        "id": "xEJhmnAi7W8J"
      }
    },
    {
      "cell_type": "code",
      "source": [
        "# Top Restaurant that have more number of outlets in a city\n",
        "\n",
        "plt.figure(figsize = (15 , 10))\n",
        "chains = df[\"name\"].value_counts()[:20]\n",
        "sns.barplot(x = chains , y = chains.index ,  palette = \"deep\")\n",
        "plt.title(\"Top Restaurants in Banglore\")\n",
        "plt.xlabel(\"Number of Outlets\")\n",
        "plt.xlabel(\"Restaurant\")\n",
        "plt.show()\n"
      ],
      "metadata": {
        "colab": {
          "base_uri": "https://localhost:8080/",
          "height": 822
        },
        "id": "RmGkYY3m7WXJ",
        "outputId": "e3fb140e-a5b0-43ab-87ca-91eec62c6dd1"
      },
      "execution_count": null,
      "outputs": [
        {
          "output_type": "display_data",
          "data": {
            "text/plain": [
              "<Figure size 1500x1000 with 1 Axes>"
            ],
            "image/png": "[encoded data removed]"
          },
          "metadata": {}
        }
      ]
    },
    {
      "cell_type": "markdown",
      "source": [
        "Cafe Coffe day has most number of Outlets in Banglore City"
      ],
      "metadata": {
        "id": "KzjsvlPbR24L"
      }
    },
    {
      "cell_type": "code",
      "source": [
        "ll = df['book_table'].unique()\n",
        "ll"
      ],
      "metadata": {
        "colab": {
          "base_uri": "https://localhost:8080/"
        },
        "id": "9N56GVi1C5I9",
        "outputId": "1aafc9b2-8c03-4d63-c1a6-6087d8968ecb"
      },
      "execution_count": null,
      "outputs": [
        {
          "output_type": "execute_result",
          "data": {
            "text/plain": [
              "array(['Yes', 'No'], dtype=object)"
            ]
          },
          "metadata": {},
          "execution_count": 26
        }
      ]
    },
    {
      "cell_type": "code",
      "source": [
        "tables = df[\"book_table\"].value_counts()\n",
        "plt.pie(tables , labels =  ll,autopct='%.0f%%')"
      ],
      "metadata": {
        "colab": {
          "base_uri": "https://localhost:8080/",
          "height": 510
        },
        "id": "kS4coKp44Cne",
        "outputId": "b31784df-df86-4c6b-f7e8-8970f3083733"
      },
      "execution_count": null,
      "outputs": [
        {
          "output_type": "execute_result",
          "data": {
            "text/plain": [
              "([<matplotlib.patches.Wedge at 0x79ff850559c0>,\n",
              "  <matplotlib.patches.Wedge at 0x79ff850558d0>],\n",
              " [Text(-1.0124825181443338, 0.4299757556561869, 'Yes'),\n",
              "  Text(1.0124825382729505, -0.42997570825845915, 'No')],\n",
              " [Text(-0.5522631917150911, 0.2345322303579201, '87%'),\n",
              "  Text(0.5522632026943366, -0.23453220450461407, '13%')])"
            ]
          },
          "metadata": {},
          "execution_count": 27
        },
        {
          "output_type": "display_data",
          "data": {
            "text/plain": [
              "<Figure size 640x480 with 1 Axes>"
            ],
            "image/png": "[encoded data removed]"
          },
          "metadata": {}
        }
      ]
    },
    {
      "cell_type": "markdown",
      "source": [
        "Most of the Restaurants offer table bookings"
      ],
      "metadata": {
        "id": "o4w3pQkfPmvY"
      }
    },
    {
      "cell_type": "code",
      "source": [
        "online_order = df['online_order'].value_counts()\n",
        "plt.bar(online_order.index , online_order.values , color = \"red\")\n",
        "plt.title(\"Whether Restaurant Delivers Online or not\" , color = \"red\")"
      ],
      "metadata": {
        "colab": {
          "base_uri": "https://localhost:8080/",
          "height": 469
        },
        "id": "sqDDEChl4CqN",
        "outputId": "28c8b471-21e2-4e78-ecf1-dfbe8288a6b3"
      },
      "execution_count": null,
      "outputs": [
        {
          "output_type": "execute_result",
          "data": {
            "text/plain": [
              "Text(0.5, 1.0, 'Whether Restaurant Delivers Online or not')"
            ]
          },
          "metadata": {},
          "execution_count": 28
        },
        {
          "output_type": "display_data",
          "data": {
            "text/plain": [
              "<Figure size 640x480 with 1 Axes>"
            ],
            "image/png": "[encoded data removed]"
          },
          "metadata": {}
        }
      ]
    },
    {
      "cell_type": "markdown",
      "source": [
        "Majority of the Restaurants Proivdes Online Order"
      ],
      "metadata": {
        "id": "-O1fIAj3P5q1"
      }
    },
    {
      "cell_type": "code",
      "source": [
        "# How Ratings are ditributed\n",
        "plt.figure(figsize = (20 , 12))\n",
        "\n",
        "sns.displot(df[\"rate\"] , bins = 20 , kde = True , height=5,aspect=2 )"
      ],
      "metadata": {
        "colab": {
          "base_uri": "https://localhost:8080/",
          "height": 541
        },
        "id": "CGzyle7u4Csi",
        "outputId": "f2f80760-53f9-410f-9698-cc73e69ae324"
      },
      "execution_count": null,
      "outputs": [
        {
          "output_type": "execute_result",
          "data": {
            "text/plain": [
              "<seaborn.axisgrid.FacetGrid at 0x79ff850420e0>"
            ]
          },
          "metadata": {},
          "execution_count": 29
        },
        {
          "output_type": "display_data",
          "data": {
            "text/plain": [
              "<Figure size 2000x1200 with 0 Axes>"
            ]
          },
          "metadata": {}
        },
        {
          "output_type": "display_data",
          "data": {
            "text/plain": [
              "<Figure size 1000x500 with 1 Axes>"
            ],
            "image/png": "[encoded data removed]"
          },
          "metadata": {}
        }
      ]
    },
    {
      "cell_type": "markdown",
      "source": [
        "Most of the Ratings are between 3.0 to 4.0"
      ],
      "metadata": {
        "id": "Sh8wWmrgQI1i"
      }
    },
    {
      "cell_type": "code",
      "source": [
        "df[\"rate\"].min()"
      ],
      "metadata": {
        "colab": {
          "base_uri": "https://localhost:8080/"
        },
        "id": "ord_S0Ye4CvF",
        "outputId": "ca9da6b7-173e-499b-b4cd-3c0a2a9c06f5"
      },
      "execution_count": null,
      "outputs": [
        {
          "output_type": "execute_result",
          "data": {
            "text/plain": [
              "1.8"
            ]
          },
          "metadata": {},
          "execution_count": 30
        }
      ]
    },
    {
      "cell_type": "code",
      "source": [
        "df['rate'].max()"
      ],
      "metadata": {
        "colab": {
          "base_uri": "https://localhost:8080/"
        },
        "id": "KkYrm0Zz4Cyt",
        "outputId": "63ac0f46-c171-4faf-e143-c5e7ee097bdf"
      },
      "execution_count": null,
      "outputs": [
        {
          "output_type": "execute_result",
          "data": {
            "text/plain": [
              "4.9"
            ]
          },
          "metadata": {},
          "execution_count": 31
        }
      ]
    },
    {
      "cell_type": "code",
      "source": [
        "restaurant_type = df['type'].value_counts()\n",
        "plt.figure(figsize = (10,5))\n",
        "plt.bar(restaurant_type.index , restaurant_type.values , color = \"green\")\n",
        "plt.title(\"Services Type\")\n"
      ],
      "metadata": {
        "colab": {
          "base_uri": "https://localhost:8080/",
          "height": 485
        },
        "id": "qrDxKz4r4C0u",
        "outputId": "dc622097-b8ef-4673-d7c3-d33760f46a74"
      },
      "execution_count": null,
      "outputs": [
        {
          "output_type": "execute_result",
          "data": {
            "text/plain": [
              "Text(0.5, 1.0, 'Services Type')"
            ]
          },
          "metadata": {},
          "execution_count": 32
        },
        {
          "output_type": "display_data",
          "data": {
            "text/plain": [
              "<Figure size 1000x500 with 1 Axes>"
            ],
            "image/png": "[encoded data removed]"
          },
          "metadata": {}
        }
      ]
    },
    {
      "cell_type": "markdown",
      "source": [
        "Most of the services are Delivery and DineOut"
      ],
      "metadata": {
        "id": "82Iaa-D0RSKF"
      }
    },
    {
      "cell_type": "code",
      "source": [
        "# which area has maximum number of restaurants\n",
        "\n",
        "plt.figure(figsize = (10,5))\n",
        "cities = df[\"city\"].value_counts()[:10]\n",
        "plt.pie(cities , labels = cities.index , autopct = \"%.0f%%\")\n",
        "plt.title(\"Location Percentage\")\n",
        "plt.show()"
      ],
      "metadata": {
        "colab": {
          "base_uri": "https://localhost:8080/",
          "height": 444
        },
        "id": "eMZp8hQP4C26",
        "outputId": "c59438ff-18c4-4cfc-f604-38a0d640ec24"
      },
      "execution_count": null,
      "outputs": [
        {
          "output_type": "display_data",
          "data": {
            "text/plain": [
              "<Figure size 1000x500 with 1 Axes>"
            ],
            "image/png": "[encoded data removed]"
          },
          "metadata": {}
        }
      ]
    },
    {
      "cell_type": "markdown",
      "source": [
        "BTM has Highest number of Restaurants"
      ],
      "metadata": {
        "id": "ZdBawYABRbsi"
      }
    },
    {
      "cell_type": "code",
      "source": [
        "# Number of Restaurants in given location\n",
        "plt.figure(figsize = (10,5))\n",
        "plt.xticks(rotation='vertical')\n",
        "sns.barplot(x = cities.index , y = cities.values , palette = \"bright\")\n",
        "plt.title(\"Number of Restaurants in given location\")"
      ],
      "metadata": {
        "colab": {
          "base_uri": "https://localhost:8080/",
          "height": 632
        },
        "id": "pHNNs5T74C5q",
        "outputId": "578716c8-b628-43b5-bcfc-97609cbc6d63"
      },
      "execution_count": null,
      "outputs": [
        {
          "output_type": "execute_result",
          "data": {
            "text/plain": [
              "Text(0.5, 1.0, 'Number of Restaurants in given location')"
            ]
          },
          "metadata": {},
          "execution_count": 34
        },
        {
          "output_type": "display_data",
          "data": {
            "text/plain": [
              "<Figure size 1000x500 with 1 Axes>"
            ],
            "image/png": "[encoded data removed]"
          },
          "metadata": {}
        }
      ]
    },
    {
      "cell_type": "code",
      "source": [
        "cost = df['cost'].value_counts()[:10]\n",
        "sns.barplot(x = cost.index , y = cost.values )\n",
        "plt.xlabel(\"Cost for 2 Peoples\")\n",
        "plt.title(\"Eating cost of Restaurants\")"
      ],
      "metadata": {
        "colab": {
          "base_uri": "https://localhost:8080/",
          "height": 489
        },
        "id": "wHuY4GYvRqu7",
        "outputId": "60686b0e-7f1d-4977-e902-5e604bed08ea"
      },
      "execution_count": null,
      "outputs": [
        {
          "output_type": "execute_result",
          "data": {
            "text/plain": [
              "Text(0.5, 1.0, 'Eating cost of Restaurants')"
            ]
          },
          "metadata": {},
          "execution_count": 35
        },
        {
          "output_type": "display_data",
          "data": {
            "text/plain": [
              "<Figure size 640x480 with 1 Axes>"
            ],
            "image/png": "[encoded data removed]"
          },
          "metadata": {}
        }
      ]
    },
    {
      "cell_type": "markdown",
      "source": [
        "300 to 400 in avg cost for 2 peoples in a Restaurants"
      ],
      "metadata": {
        "id": "KnkvHP2GT6WG"
      }
    },
    {
      "cell_type": "code",
      "source": [
        "temp_df = df.sort_values(by = \"cost\" , ascending = False).head(10)"
      ],
      "metadata": {
        "id": "j-AV918p4C8E"
      },
      "execution_count": null,
      "outputs": []
    },
    {
      "cell_type": "code",
      "source": [
        "plt.bar(temp_df[\"name\"] , temp_df[\"cost\"])\n",
        "plt.xticks(rotation = \"vertical\")\n",
        "plt.ylabel(\"Cost of 2 People\")\n",
        "plt.xlabel(\"Restro Name\")\n",
        "plt.title(\"Top costliest Restaurants\")"
      ],
      "metadata": {
        "colab": {
          "base_uri": "https://localhost:8080/",
          "height": 742
        },
        "id": "ktE1L-EvYY01",
        "outputId": "97a1dea8-9816-450b-a5e1-efae4b024b96"
      },
      "execution_count": null,
      "outputs": [
        {
          "output_type": "execute_result",
          "data": {
            "text/plain": [
              "Text(0.5, 1.0, 'Top costliest Restaurants')"
            ]
          },
          "metadata": {},
          "execution_count": 37
        },
        {
          "output_type": "display_data",
          "data": {
            "text/plain": [
              "<Figure size 640x480 with 1 Axes>"
            ],
            "image/png": "[encoded data removed]"
          },
          "metadata": {}
        }
      ]
    },
    {
      "cell_type": "markdown",
      "source": [
        "The Leela Palace is most costliest Restaurant"
      ],
      "metadata": {
        "id": "XXDcTIhUZUY2"
      }
    },
    {
      "cell_type": "code",
      "source": [
        "import re\n",
        "\n",
        "likes = []\n",
        "for i in range(df.shape[0]):\n",
        "    dish_liked = df[\"dish_liked\"][i]\n",
        "    if isinstance(dish_liked, str):\n",
        "        array_split = re.split(\",\", dish_liked)\n",
        "        for item in array_split:\n",
        "            likes.append(item)\n"
      ],
      "metadata": {
        "id": "YI7jUnlCZFiR"
      },
      "execution_count": null,
      "outputs": []
    },
    {
      "cell_type": "code",
      "source": [
        "fav_dish = pd.Series(likes).value_counts()[:25]\n",
        "fav_dish"
      ],
      "metadata": {
        "id": "rxrp8KgmZFlG"
      },
      "execution_count": null,
      "outputs": []
    },
    {
      "cell_type": "code",
      "source": [
        "plt.figure(figsize = (10,4))\n",
        "sns.barplot(x = fav_dish.index , y = fav_dish.values)\n",
        "plt.xticks(rotation = \"vertical\")\n",
        "plt.xlabel(\"Name of Dish\")\n",
        "plt.show()\n",
        "\n"
      ],
      "metadata": {
        "id": "WRFvjMnwZFnf"
      },
      "execution_count": null,
      "outputs": []
    },
    {
      "cell_type": "markdown",
      "source": [
        "Pasta is most liked dish among the People\n"
      ],
      "metadata": {
        "id": "OHAQOFVtHu1q"
      }
    },
    {
      "cell_type": "code",
      "source": [
        "import matplotlib.pyplot as plt\n",
        "from wordcloud import WordCloud\n",
        "\n",
        "\n",
        "wordcloud = WordCloud(width=800, height=400, background_color=\"black\")\n",
        "wordcloud.generate_from_frequencies(fav_dish)\n",
        "\n",
        "plt.figure(figsize=(10, 5))\n",
        "plt.imshow(wordcloud, interpolation=\"bilinear\")\n",
        "plt.axis(\"off\")\n",
        "plt.show()\n"
      ],
      "metadata": {
        "id": "MfWgwa8RHuFb"
      },
      "execution_count": null,
      "outputs": []
    },
    {
      "cell_type": "code",
      "source": [
        "import re\n",
        "\n",
        "cuisines = []\n",
        "for i in range(df.shape[0]):\n",
        "    dish_liked = df[\"cuisines\"][i]\n",
        "    if isinstance(dish_liked, str):\n",
        "        array_split = re.split(\",\", dish_liked)\n",
        "        for item in array_split:\n",
        "            cuisines.append(item)"
      ],
      "metadata": {
        "id": "aqJCXv1mZFrP"
      },
      "execution_count": null,
      "outputs": []
    },
    {
      "cell_type": "code",
      "source": [
        "fav_cuisines = pd.Series(cuisines).value_counts()[:25]\n",
        "fav_cuisines"
      ],
      "metadata": {
        "id": "TDGEdRJ3ZFwS"
      },
      "execution_count": null,
      "outputs": []
    },
    {
      "cell_type": "code",
      "source": [
        "plt.figure(figsize = (10,4))\n",
        "sns.barplot(x = fav_cuisines.index , y = fav_cuisines.values , palette = \"CMRmap_r\")\n",
        "plt.xticks(rotation = \"vertical\")\n",
        "plt.xlabel(\"Name of Dish\")\n",
        "plt.show()\n"
      ],
      "metadata": {
        "id": "zbk98XvUZFym"
      },
      "execution_count": null,
      "outputs": []
    },
    {
      "cell_type": "markdown",
      "source": [
        "Chinese and North Indian are the most popular cuisines"
      ],
      "metadata": {
        "id": "iqL23n-xMqvR"
      }
    },
    {
      "cell_type": "code",
      "source": [
        "wordcloud = WordCloud(width=800, height=400, background_color=\"red\")\n",
        "wordcloud.generate_from_frequencies(fav_cuisines)\n",
        "\n",
        "plt.figure(figsize=(10, 5))\n",
        "plt.imshow(wordcloud, interpolation=\"bilinear\")\n",
        "plt.axis(\"off\")\n",
        "plt.show()"
      ],
      "metadata": {
        "id": "cZb_oZXqZF0h"
      },
      "execution_count": null,
      "outputs": []
    },
    {
      "cell_type": "markdown",
      "source": [
        "#Preparing Machine Learning Model"
      ],
      "metadata": {
        "id": "r-fHYrPHNNBa"
      }
    },
    {
      "cell_type": "code",
      "source": [
        "!pip install category_encoders"
      ],
      "metadata": {
        "colab": {
          "base_uri": "https://localhost:8080/"
        },
        "id": "xf8yVJqUI-WD",
        "outputId": "9bd23d4f-5a7d-4879-82f9-74be91362e4c"
      },
      "execution_count": null,
      "outputs": [
        {
          "output_type": "stream",
          "name": "stdout",
          "text": [
            "Collecting category_encoders\n",
            "  Downloading category_encoders-2.6.2-py2.py3-none-any.whl (81 kB)\n",
            "\u001b[2K     \u001b[90m━━━━━━━━━━━━━━━━━━━━━━━━━━━━━━━━━━━━━━━━\u001b[0m \u001b[32m81.8/81.8 kB\u001b[0m \u001b[31m1.3 MB/s\u001b[0m eta \u001b[36m0:00:00\u001b[0m\n",
            "\u001b[?25hRequirement already satisfied: numpy>=1.14.0 in /usr/local/lib/python3.10/dist-packages (from category_encoders) (1.23.5)\n",
            "Requirement already satisfied: scikit-learn>=0.20.0 in /usr/local/lib/python3.10/dist-packages (from category_encoders) (1.2.2)\n",
            "Requirement already satisfied: scipy>=1.0.0 in /usr/local/lib/python3.10/dist-packages (from category_encoders) (1.11.2)\n",
            "Requirement already satisfied: statsmodels>=0.9.0 in /usr/local/lib/python3.10/dist-packages (from category_encoders) (0.14.0)\n",
            "Requirement already satisfied: pandas>=1.0.5 in /usr/local/lib/python3.10/dist-packages (from category_encoders) (1.5.3)\n",
            "Requirement already satisfied: patsy>=0.5.1 in /usr/local/lib/python3.10/dist-packages (from category_encoders) (0.5.3)\n",
            "Requirement already satisfied: python-dateutil>=2.8.1 in /usr/local/lib/python3.10/dist-packages (from pandas>=1.0.5->category_encoders) (2.8.2)\n",
            "Requirement already satisfied: pytz>=2020.1 in /usr/local/lib/python3.10/dist-packages (from pandas>=1.0.5->category_encoders) (2023.3.post1)\n",
            "Requirement already satisfied: six in /usr/local/lib/python3.10/dist-packages (from patsy>=0.5.1->category_encoders) (1.16.0)\n",
            "Requirement already satisfied: joblib>=1.1.1 in /usr/local/lib/python3.10/dist-packages (from scikit-learn>=0.20.0->category_encoders) (1.3.2)\n",
            "Requirement already satisfied: threadpoolctl>=2.0.0 in /usr/local/lib/python3.10/dist-packages (from scikit-learn>=0.20.0->category_encoders) (3.2.0)\n",
            "Requirement already satisfied: packaging>=21.3 in /usr/local/lib/python3.10/dist-packages (from statsmodels>=0.9.0->category_encoders) (23.1)\n",
            "Installing collected packages: category_encoders\n",
            "Successfully installed category_encoders-2.6.2\n"
          ]
        }
      ]
    },
    {
      "cell_type": "code",
      "source": [
        "from sklearn.compose import ColumnTransformer\n",
        "from sklearn.pipeline import Pipeline\n",
        "# powerful tool for evaluating the performance of machine learning models.\n",
        "from sklearn.model_selection import cross_validate\n",
        "from sklearn.preprocessing import OneHotEncoder , RobustScaler\n",
        "from category_encoders import BinaryEncoder\n",
        "from sklearn.linear_model import LogisticRegression"
      ],
      "metadata": {
        "id": "xIUPghvRNMGE"
      },
      "execution_count": null,
      "outputs": []
    },
    {
      "cell_type": "code",
      "source": [
        "df.dropna(inplace = True)"
      ],
      "metadata": {
        "id": "DpytKdUdnxfM"
      },
      "execution_count": null,
      "outputs": []
    },
    {
      "cell_type": "code",
      "source": [
        "from sklearn.preprocessing import MultiLabelBinarizer\n",
        "\n",
        "Mlb = MultiLabelBinarizer()"
      ],
      "metadata": {
        "id": "ewc2mMV9JNZl"
      },
      "execution_count": null,
      "outputs": []
    },
    {
      "cell_type": "code",
      "source": [
        "# Extract features from the 'rest_type' column\n",
        "df['rest_type'] = df['rest_type'].apply(lambda x: x.lower())\n",
        "df['rest_type_count'] = df['rest_type'].apply(lambda x: len(x.split(', ')))"
      ],
      "metadata": {
        "id": "em3VjAyxJNcJ"
      },
      "execution_count": null,
      "outputs": []
    },
    {
      "cell_type": "code",
      "source": [
        "df['type'] = df['type'].apply(lambda x: x.lower())"
      ],
      "metadata": {
        "id": "P09oMKyLJNfd"
      },
      "execution_count": null,
      "outputs": []
    },
    {
      "cell_type": "code",
      "source": [
        "df.reset_index(drop = True , inplace = True)"
      ],
      "metadata": {
        "id": "gozQeaGJJNiO"
      },
      "execution_count": null,
      "outputs": []
    },
    {
      "cell_type": "code",
      "source": [
        "df[\"rate\"].max()"
      ],
      "metadata": {
        "colab": {
          "base_uri": "https://localhost:8080/"
        },
        "id": "IDu9vq6TJNmV",
        "outputId": "0b5fcfb2-663a-49e8-db0f-ff77478619aa"
      },
      "execution_count": null,
      "outputs": [
        {
          "output_type": "execute_result",
          "data": {
            "text/plain": [
              "4.9"
            ]
          },
          "metadata": {},
          "execution_count": 47
        }
      ]
    },
    {
      "cell_type": "code",
      "source": [
        "def create_target(r):\n",
        "  if r >= 2 and r <= 2.5:\n",
        "    return 0\n",
        "  elif r > 2.5 and r <= 3:\n",
        "    return 1\n",
        "  elif r > 3 and r <= 3.5:\n",
        "    return 2\n",
        "  elif r > 3.5 and r <= 4:\n",
        "    return 3\n",
        "  else:\n",
        "    return 4"
      ],
      "metadata": {
        "id": "3kV4dlR0Jlxo"
      },
      "execution_count": null,
      "outputs": []
    },
    {
      "cell_type": "code",
      "source": [
        "df[\"target\"] = df[\"rate\"].apply(create_target)"
      ],
      "metadata": {
        "id": "MYzsAeJdJl3y"
      },
      "execution_count": null,
      "outputs": []
    },
    {
      "cell_type": "code",
      "source": [
        "df['target'].value_counts()"
      ],
      "metadata": {
        "colab": {
          "base_uri": "https://localhost:8080/"
        },
        "id": "QoU4j9AbJl6c",
        "outputId": "229914ca-a572-4b6f-f2cc-a3ecf7d5b7a6"
      },
      "execution_count": null,
      "outputs": [
        {
          "output_type": "execute_result",
          "data": {
            "text/plain": [
              "3    10247\n",
              "4     6470\n",
              "2     1390\n",
              "1     1063\n",
              "0      166\n",
              "Name: target, dtype: int64"
            ]
          },
          "metadata": {},
          "execution_count": 50
        }
      ]
    },
    {
      "cell_type": "code",
      "source": [
        "df.drop(columns = [\"name\" , \"dish_liked\" , \"rest_type\" , \"cuisines\",\"reviews_list\" ,\"menu_item\" ] , axis = 1 , inplace = True)"
      ],
      "metadata": {
        "id": "irBDv8xaJl_b"
      },
      "execution_count": null,
      "outputs": []
    },
    {
      "cell_type": "code",
      "source": [
        "Cat_feature = df.select_dtypes(include=\"object_\")"
      ],
      "metadata": {
        "id": "noN94cZdJmCr"
      },
      "execution_count": null,
      "outputs": []
    },
    {
      "cell_type": "code",
      "source": [
        "for feature in Cat_feature:\n",
        "  print(f\"Featuer {feature} has {Cat_feature[feature].nunique()} unique values\")"
      ],
      "metadata": {
        "colab": {
          "base_uri": "https://localhost:8080/"
        },
        "id": "HIp1y4QdJ2er",
        "outputId": "fccb16d1-44ca-408a-c783-c43e9ce40a98"
      },
      "execution_count": null,
      "outputs": [
        {
          "output_type": "stream",
          "name": "stdout",
          "text": [
            "Featuer online_order has 2 unique values\n",
            "Featuer book_table has 2 unique values\n",
            "Featuer location has 87 unique values\n",
            "Featuer type has 7 unique values\n",
            "Featuer city has 30 unique values\n"
          ]
        }
      ]
    },
    {
      "cell_type": "code",
      "source": [
        "df_location_count = df[\"location\"].value_counts(normalize=True) * 100\n",
        "df_location_count"
      ],
      "metadata": {
        "colab": {
          "base_uri": "https://localhost:8080/"
        },
        "id": "R3iLkZnIJ2hY",
        "outputId": "4eb93a84-fd38-4712-f969-aca9b7f40024"
      },
      "execution_count": null,
      "outputs": [
        {
          "output_type": "execute_result",
          "data": {
            "text/plain": [
              "BTM                      6.940422\n",
              "Koramangala 5th Block    6.655978\n",
              "Indiranagar              5.642325\n",
              "HSR                      5.202731\n",
              "Jayanagar                4.897600\n",
              "                           ...   \n",
              "Rajarajeshwari Nagar     0.010343\n",
              "Yelahanka                0.010343\n",
              "West Bangalore           0.010343\n",
              "Kanakapura Road          0.005172\n",
              "KR Puram                 0.005172\n",
              "Name: location, Length: 87, dtype: float64"
            ]
          },
          "metadata": {},
          "execution_count": 54
        }
      ]
    },
    {
      "cell_type": "code",
      "source": [
        "Desired_index = df_location_count[df_location_count.values > 0.5].index\n",
        "Desired_index"
      ],
      "metadata": {
        "colab": {
          "base_uri": "https://localhost:8080/"
        },
        "id": "LQvCe0CeJ8Nu",
        "outputId": "1174b62c-b821-4d31-e2e2-31acad7fef8f"
      },
      "execution_count": null,
      "outputs": [
        {
          "output_type": "execute_result",
          "data": {
            "text/plain": [
              "Index(['BTM', 'Koramangala 5th Block', 'Indiranagar', 'HSR', 'Jayanagar',\n",
              "       'JP Nagar', 'Whitefield', 'Koramangala 7th Block',\n",
              "       'Koramangala 6th Block', 'Marathahalli', 'Koramangala 4th Block',\n",
              "       'MG Road', 'Brigade Road', 'Ulsoor', 'Bannerghatta Road', 'Bellandur',\n",
              "       'Koramangala 1st Block', 'Kalyan Nagar', 'Residency Road',\n",
              "       'Banashankari', 'Sarjapur Road', 'Church Street', 'Malleshwaram',\n",
              "       'Richmond Road', 'Lavelle Road', 'Electronic City', 'Cunningham Road',\n",
              "       'Basavanagudi', 'Brookefield', 'New BEL Road', 'Frazer Town',\n",
              "       'Kammanahalli', 'St. Marks Road', 'Domlur', 'Old Airport Road',\n",
              "       'Banaswadi', 'Jeevan Bhima Nagar', 'Rajajinagar', 'Commercial Street',\n",
              "       'Shanti Nagar', 'Koramangala 3rd Block', 'Koramangala 8th Block',\n",
              "       'Vasanth Nagar'],\n",
              "      dtype='object')"
            ]
          },
          "metadata": {},
          "execution_count": 55
        }
      ]
    },
    {
      "cell_type": "code",
      "source": [
        "def Reduce_location(r):\n",
        "  if r in Desired_index:\n",
        "    return r\n",
        "  else:\n",
        "    return \"other\""
      ],
      "metadata": {
        "id": "eev_wYLuJ8Qj"
      },
      "execution_count": null,
      "outputs": []
    },
    {
      "cell_type": "code",
      "source": [
        "df[\"location\"] = df[\"location\"].apply(Reduce_location)"
      ],
      "metadata": {
        "id": "HXC9jaqOJ8UQ"
      },
      "execution_count": null,
      "outputs": []
    },
    {
      "cell_type": "code",
      "source": [
        "df['location']"
      ],
      "metadata": {
        "colab": {
          "base_uri": "https://localhost:8080/"
        },
        "id": "P6pkWZuVJ2jx",
        "outputId": "2dca482e-6efe-46d6-e579-931a466bbfed"
      },
      "execution_count": null,
      "outputs": [
        {
          "output_type": "execute_result",
          "data": {
            "text/plain": [
              "0        Banashankari\n",
              "1        Banashankari\n",
              "2        Banashankari\n",
              "3        Banashankari\n",
              "4        Basavanagudi\n",
              "             ...     \n",
              "19331      Whitefield\n",
              "19332      Whitefield\n",
              "19333      Whitefield\n",
              "19334      Whitefield\n",
              "19335           other\n",
              "Name: location, Length: 19336, dtype: object"
            ]
          },
          "metadata": {},
          "execution_count": 58
        }
      ]
    },
    {
      "cell_type": "code",
      "source": [
        "df_location_count = df[\"city\"].value_counts(normalize=True) * 100\n",
        "df_location_count"
      ],
      "metadata": {
        "colab": {
          "base_uri": "https://localhost:8080/"
        },
        "id": "UHt9uJKLJ2mX",
        "outputId": "ccbf9215-c17c-4680-abca-7a0a584cf915"
      },
      "execution_count": null,
      "outputs": [
        {
          "output_type": "execute_result",
          "data": {
            "text/plain": [
              "BTM                      6.314646\n",
              "Koramangala 7th Block    5.880223\n",
              "Koramangala 4th Block    5.776789\n",
              "Koramangala 5th Block    5.394084\n",
              "Koramangala 6th Block    5.073438\n",
              "Jayanagar                4.892429\n",
              "Indiranagar              4.556268\n",
              "Church Street            4.230451\n",
              "Brigade Road             4.028755\n",
              "MG Road                  3.920149\n",
              "Lavelle Road             3.583988\n",
              "JP Nagar                 3.532271\n",
              "Residency Road           3.320232\n",
              "Old Airport Road         3.196111\n",
              "HSR                      3.139222\n",
              "Basavanagudi             2.896152\n",
              "Brookefield              2.709971\n",
              "Whitefield               2.699628\n",
              "Marathahalli             2.596194\n",
              "Bannerghatta Road        2.466901\n",
              "Frazer Town              2.461729\n",
              "Kalyan Nagar             2.342780\n",
              "Malleshwaram             2.270376\n",
              "Kammanahalli             2.249690\n",
              "Bellandur                2.208316\n",
              "Sarjapur Road            2.104882\n",
              "Banashankari             1.794580\n",
              "Rajajinagar              1.623914\n",
              "Electronic City          1.463591\n",
              "New BEL Road             1.272238\n",
              "Name: city, dtype: float64"
            ]
          },
          "metadata": {},
          "execution_count": 59
        }
      ]
    },
    {
      "cell_type": "code",
      "source": [
        "Encoder = ColumnTransformer(transformers=[(\"OHE\",OneHotEncoder(sparse=False , drop=\"first\" ), [\"online_order\" , \"book_table\",\"type\"]) , (\"BE\",BinaryEncoder() , [\"location\" , \"city\"] )] , remainder = \"passthrough\")"
      ],
      "metadata": {
        "id": "uSgAcw_kEDdd"
      },
      "execution_count": null,
      "outputs": []
    },
    {
      "cell_type": "code",
      "source": [
        "from sklearn.ensemble import RandomForestClassifier\n",
        "from sklearn.tree import DecisionTreeClassifier\n",
        "steps = []\n",
        "steps.append((\"Encoder\" , Encoder))\n",
        "steps.append((\"Scaler\" , RobustScaler()))\n",
        "steps.append((\"Model\" , DecisionTreeClassifier()))\n",
        "pipeline = Pipeline(steps=steps)"
      ],
      "metadata": {
        "id": "L4S61AsOKMnt"
      },
      "execution_count": null,
      "outputs": []
    },
    {
      "cell_type": "code",
      "source": [
        "df.drop(columns = [\"rate\"]  , inplace = True)"
      ],
      "metadata": {
        "id": "P-ZelgeiKbaR"
      },
      "execution_count": null,
      "outputs": []
    },
    {
      "cell_type": "code",
      "source": [
        "X =df.drop(\"target\" , axis=1)\n",
        "y =df[\"target\"]"
      ],
      "metadata": {
        "id": "4KdaT1nJKMrC"
      },
      "execution_count": null,
      "outputs": []
    },
    {
      "cell_type": "code",
      "source": [
        "results_f1 = cross_validate(pipeline, X, y, cv=5, scoring='f1_macro', return_train_score=True , error_score='raise')\n"
      ],
      "metadata": {
        "colab": {
          "base_uri": "https://localhost:8080/"
        },
        "id": "WBUNeW1bKMtq",
        "outputId": "9149ab07-0245-4277-d36b-4f95541653d3"
      },
      "execution_count": null,
      "outputs": [
        {
          "output_type": "stream",
          "name": "stderr",
          "text": [
            "/usr/local/lib/python3.10/dist-packages/sklearn/preprocessing/_encoders.py:868: FutureWarning: `sparse` was renamed to `sparse_output` in version 1.2 and will be removed in 1.4. `sparse_output` is ignored unless you leave `sparse` to its default value.\n",
            "  warnings.warn(\n",
            "/usr/local/lib/python3.10/dist-packages/sklearn/preprocessing/_encoders.py:868: FutureWarning: `sparse` was renamed to `sparse_output` in version 1.2 and will be removed in 1.4. `sparse_output` is ignored unless you leave `sparse` to its default value.\n",
            "  warnings.warn(\n",
            "/usr/local/lib/python3.10/dist-packages/sklearn/preprocessing/_encoders.py:868: FutureWarning: `sparse` was renamed to `sparse_output` in version 1.2 and will be removed in 1.4. `sparse_output` is ignored unless you leave `sparse` to its default value.\n",
            "  warnings.warn(\n",
            "/usr/local/lib/python3.10/dist-packages/sklearn/preprocessing/_encoders.py:868: FutureWarning: `sparse` was renamed to `sparse_output` in version 1.2 and will be removed in 1.4. `sparse_output` is ignored unless you leave `sparse` to its default value.\n",
            "  warnings.warn(\n",
            "/usr/local/lib/python3.10/dist-packages/sklearn/preprocessing/_encoders.py:868: FutureWarning: `sparse` was renamed to `sparse_output` in version 1.2 and will be removed in 1.4. `sparse_output` is ignored unless you leave `sparse` to its default value.\n",
            "  warnings.warn(\n"
          ]
        }
      ]
    },
    {
      "cell_type": "code",
      "source": [
        "# use precision score as the scoring metric\n",
        "results_precision = cross_validate(pipeline, X, y, cv=5, scoring='precision_macro', return_train_score=True , n_jobs =-1)"
      ],
      "metadata": {
        "id": "tuuVCoHaKsGp"
      },
      "execution_count": null,
      "outputs": []
    },
    {
      "cell_type": "code",
      "source": [
        "print(results_precision[\"train_score\"].mean())"
      ],
      "metadata": {
        "colab": {
          "base_uri": "https://localhost:8080/"
        },
        "id": "8_U48OmlKsK1",
        "outputId": "b0b03077-54b1-40ff-cfd5-4c4268421a26"
      },
      "execution_count": null,
      "outputs": [
        {
          "output_type": "stream",
          "name": "stdout",
          "text": [
            "0.9968506850012862\n"
          ]
        }
      ]
    },
    {
      "cell_type": "code",
      "source": [
        "print(results_precision[\"test_score\"].mean())"
      ],
      "metadata": {
        "colab": {
          "base_uri": "https://localhost:8080/"
        },
        "id": "MHlnkjkYKsUg",
        "outputId": "f3fd2baa-e5f3-44f5-a457-658129a5395b"
      },
      "execution_count": null,
      "outputs": [
        {
          "output_type": "stream",
          "name": "stdout",
          "text": [
            "0.66167112970243\n"
          ]
        }
      ]
    },
    {
      "cell_type": "code",
      "source": [
        "from sklearn.model_selection import train_test_split\n",
        "\n",
        "\n",
        "X = df.drop(\"target\", axis=1)\n",
        "y = df[\"target\"]\n",
        "\n",
        "X_train , X_test , y_train , y_test = train_test_split(X , y , test_size = 0.2 , random_state = 5)\n",
        "pipeline.fit(X_train, y_train)\n",
        "pre = pipeline.predict(X_test)"
      ],
      "metadata": {
        "colab": {
          "base_uri": "https://localhost:8080/"
        },
        "id": "OuQN4nRqKsXF",
        "outputId": "b3e61f71-8c28-43c4-f18e-7562f4424f3c"
      },
      "execution_count": null,
      "outputs": [
        {
          "output_type": "stream",
          "name": "stderr",
          "text": [
            "/usr/local/lib/python3.10/dist-packages/sklearn/preprocessing/_encoders.py:868: FutureWarning: `sparse` was renamed to `sparse_output` in version 1.2 and will be removed in 1.4. `sparse_output` is ignored unless you leave `sparse` to its default value.\n",
            "  warnings.warn(\n"
          ]
        }
      ]
    },
    {
      "cell_type": "code",
      "source": [
        "from sklearn.metrics import accuracy_score\n",
        "\n",
        "accuracy_score(pre , y_test)"
      ],
      "metadata": {
        "colab": {
          "base_uri": "https://localhost:8080/"
        },
        "id": "krll74XZKsak",
        "outputId": "6510fd7d-4189-4956-a40f-0882c489aec1"
      },
      "execution_count": null,
      "outputs": [
        {
          "output_type": "execute_result",
          "data": {
            "text/plain": [
              "0.8841778697001034"
            ]
          },
          "metadata": {},
          "execution_count": 72
        }
      ]
    },
    {
      "cell_type": "code",
      "source": [
        "X = df.drop(\"target\", axis=1)\n",
        "y = df[\"target\"]\n",
        "\n",
        "X_train , X_test , y_train , y_test = train_test_split(X , y , test_size = 0.2 , random_state = 1)\n",
        "pipeline.fit(X_train, y_train)\n",
        "\n",
        "# Create a loop to accept user input and make predictions\n",
        "while True:\n",
        "    online_order = input(\"Online Order (Yes/No): \")\n",
        "    book_table = input(\"Book Table (Yes/No): \")\n",
        "    location = input(\"Location: \")\n",
        "    city = input(\"City: \")\n",
        "    type1 = input(\"type: \")\n",
        "    votes = int(input(\"votes: \"))\n",
        "    cost = int(input(\"cost: \"))\n",
        "    rest_type_count = int(input('rest_type_count: '))\n",
        "\n",
        "    # Create a new DataFrame with the user's input\n",
        "    new_data = pd.DataFrame({\n",
        "        \"online_order\": [online_order],\n",
        "        \"book_table\": [book_table],\n",
        "        \"location\": [location],\n",
        "        \"votes\":[votes],\n",
        "        \"cost\":[cost],\n",
        "        \"type\":[type1],\n",
        "        \"city\": [city],\n",
        "        \"rest_type_count\":[rest_type_count]\n",
        "    })\n",
        "\n",
        "    # Make predictions for the user's input\n",
        "    prediction = pipeline.predict(new_data)\n",
        "\n",
        "    print(\"Predicted Target:\", prediction[0])\n",
        "\n",
        "    # Ask the user if they want to continue or exit\n",
        "    continue_input = input(\"Do you want to continue (Yes/No)? \").lower()\n",
        "    if continue_input != 'yes':\n",
        "        break"
      ],
      "metadata": {
        "id": "CqYf8rjfK6dE"
      },
      "execution_count": null,
      "outputs": []
    }
  ]
}